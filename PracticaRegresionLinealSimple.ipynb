{
  "cells": [
    {
      "cell_type": "markdown",
      "metadata": {
        "id": "view-in-github",
        "colab_type": "text"
      },
      "source": [
        "<a href=\"https://colab.research.google.com/github/AleR26/ColabFiles/blob/main/PracticaRegresionLinealSimple.ipynb\" target=\"_parent\"><img src=\"https://colab.research.google.com/assets/colab-badge.svg\" alt=\"Open In Colab\"/></a>"
      ]
    },
    {
      "cell_type": "markdown",
      "id": "700f4b14",
      "metadata": {
        "id": "700f4b14"
      },
      "source": [
        "# Maestría en Inteligencia Artificial y Analítica de Datos\n",
        "\n",
        "## Programación para Analítica Descriptiva y Predictiva - Marzo 2025\n",
        "## Práctica: Regresión Lineal Simple con Scikit-Learn\n",
        "---\n",
        "\n",
        "\n",
        "## Datos del Estudiante\n",
        "\n",
        "*   Apellidos y Nombre:Alejandra Margarita Rivas Simental\n",
        "*   Matrícula:263162\n",
        "\n",
        "---\n",
        "\n",
        "## Objetivo de aprendizaje\n",
        "Al finalizar esta práctica, el estudiante será capaz de **aplicar la regresión lineal simple utilizando Scikit-Learn para modelar la relación entre dos variables numéricas**, verificar los principales supuestos del modelo (linealidad, normalidad de residuos y homocedasticidad), **interpretar los coeficientes del modelo**, calcular e interpretar la **correlación entre variables** y evaluar el desempeño del modelo mediante métricas como el MSE, RMSE y R².\n",
        "\n",
        "\n",
        "Trabajarás con el archivo restaurantes.csv, que contiene dos columnas:\n",
        "\n",
        "- `poblation`: población de la ciudad (variable independiente). Tiene valores decimales mayores que cero. Estos valores representan la población de la ciudad multiplicada por 10,000. Por ejemplo, 6.1101 significa que la población de esa ciudad es 61,101.\n",
        "\n",
        "- `profit`: ganancia del restaurante en esa ciudad (variable dependiente). Tiene valores decimales, algunos negativos y otros positivos. Estos representan las ganancias mensuales promedio de su restaurante en cada ciudad, en unidades de $10,000. Por ejemplo, 17.592 representa 175,920 en ganancias mensuales promedio para esa ciudad. -2.6807 representa -26,807 en pérdidas mensuales promedio para esa ciudad.\n",
        "\n",
        "\n",
        "\n"
      ]
    },
    {
      "cell_type": "markdown",
      "id": "669474c7",
      "metadata": {
        "id": "669474c7"
      },
      "source": [
        "## 🔧 Parte 1: Carga de datos y bibliotecas\n",
        "1. Importa las bibliotecas necesarias.\n",
        "2. Carga el archivo `restaurantes.csv`\n",
        "3. Muestra las primeras filas del dataframe.\n",
        "4. Describe estadísticamente el conjunto de datos."
      ]
    },
    {
      "cell_type": "code",
      "execution_count": 2,
      "id": "a4dde479",
      "metadata": {
        "id": "a4dde479",
        "colab": {
          "base_uri": "https://localhost:8080/"
        },
        "outputId": "4dde85d6-8367-46e8-853d-98426be4f33d"
      },
      "outputs": [
        {
          "output_type": "stream",
          "name": "stdout",
          "text": [
            "   poblation   profit\n",
            "0     6.1101  17.5920\n",
            "1     5.5277   9.1302\n",
            "2     8.5186  13.6620\n",
            "3     7.0032  11.8540\n",
            "4     5.8598   6.8233\n",
            "Descripción estadistica de los datos\n",
            "        poblation     profit\n",
            "count  97.000000  97.000000\n",
            "mean    8.159800   5.839135\n",
            "std     3.869884   5.510262\n",
            "min     5.026900  -2.680700\n",
            "25%     5.707700   1.986900\n",
            "50%     6.589400   4.562300\n",
            "75%     8.578100   7.046700\n",
            "max    22.203000  24.147000\n"
          ]
        }
      ],
      "source": [
        "# Escribe tu código aquí\n",
        "import pandas as pd\n",
        "from sklearn.linear_model import LinearRegression\n",
        "import matplotlib.pyplot as plt\n",
        "import seaborn as sns\n",
        "\n",
        "df = pd.read_csv('/content/sample_data/restaurantes.csv')\n",
        "print(df.head(5))\n",
        "print(\"Descripción estadistica de los datos\\n\", df.describe())\n"
      ]
    },
    {
      "cell_type": "markdown",
      "id": "8bfdca52",
      "metadata": {
        "id": "8bfdca52"
      },
      "source": [
        "##  Parte 2: Análisis exploratorio y relación entre variables\n",
        "\n",
        "### 2.1 Diagrama de Dispersión\n",
        "1. Grafica un **diagrama de dispersión** entre `poblation` y `profit`\n",
        "2. Responde:  \n",
        "**¿La relación entre las variables parece lineal? ¿Por qué?**"
      ]
    },
    {
      "cell_type": "code",
      "execution_count": 15,
      "id": "094918f1",
      "metadata": {
        "id": "094918f1",
        "colab": {
          "base_uri": "https://localhost:8080/",
          "height": 449
        },
        "outputId": "58a3c560-e08d-411a-e6cc-a158582804fc"
      },
      "outputs": [
        {
          "output_type": "display_data",
          "data": {
            "text/plain": [
              "<Figure size 640x480 with 1 Axes>"
            ],
            "image/png": "[encoded data removed]"
          },
          "metadata": {}
        }
      ],
      "source": [
        "# Diagrama de dispersión\n",
        "# Crear un scatterplot entre 'poblation' y 'profit'\n",
        "sns.scatterplot(x='poblation', y='profit', data=df)\n",
        "\n",
        "# Mostrar el gráfico\n",
        "plt.show()"
      ]
    },
    {
      "cell_type": "markdown",
      "id": "825e73ab",
      "metadata": {
        "id": "825e73ab"
      },
      "source": [
        "### 2.2: Cálculo e interpretación de la correlación\n",
        "1. Calcula e imprime el **coeficiente de correlación de Pearson** entre `poblation` y `profit`\n",
        "2. Interpreta el resultado:\n",
        "- ¿Qué tan fuerte es la relación? **La correlacion es de 0.83 por lo que podemos decir que es una correlación fuerte**\n",
        "- ¿Es positiva o negativa? **Tenemos una correlación positiva**\n",
        "- ¿Es coherente con el gráfico anterior? **Si**"
      ]
    },
    {
      "cell_type": "code",
      "execution_count": 6,
      "id": "dd87f634",
      "metadata": {
        "id": "dd87f634",
        "colab": {
          "base_uri": "https://localhost:8080/"
        },
        "outputId": "f5570e01-f0d5-4d1c-db53-e6a6e1427b29"
      },
      "outputs": [
        {
          "output_type": "stream",
          "name": "stdout",
          "text": [
            "Correlacion de Pearson\n",
            "           poblation    profit\n",
            "poblation   1.000000  0.837873\n",
            "profit      0.837873  1.000000\n"
          ]
        }
      ],
      "source": [
        "# Cálculo de correlación\n",
        "correlacion_df = df.corr(method = 'pearson')\n",
        "print(f\"Correlacion de Pearson\\n{correlacion_df}\")"
      ]
    },
    {
      "cell_type": "markdown",
      "id": "d1de51f7",
      "metadata": {
        "id": "d1de51f7"
      },
      "source": [
        "## Parte 3: Construcción del modelo, coeficientes y visualización\n",
        "\n",
        "###3.1 Construcción del modelo - obtención de los parámetros y coeficientes\n",
        "1. Construye un modelo de regresión lineal simple usando las bibliotecas de Scikit-Learn\n",
        "2. Imprime el intercepto y el coeficiente de la regresión (pendiente)\n",
        "3. Interpreta el Intercepto: ¿Qué significa en términos del contexto del problema?\n",
        "4. Interpreta el coeficiente de la regresión (pendiente) ¿Qué significa en términos del contexto del problema?"
      ]
    },
    {
      "cell_type": "code",
      "execution_count": 11,
      "id": "e8988cdb",
      "metadata": {
        "id": "e8988cdb",
        "colab": {
          "base_uri": "https://localhost:8080/"
        },
        "outputId": "55797343-ce58-439b-9f2d-be9f3c7b9a74"
      },
      "outputs": [
        {
          "output_type": "stream",
          "name": "stdout",
          "text": [
            "Modelo entrenado exitosamente!\n",
            "\n",
            "Coeficiente (Pendiente, β₁): 1.1930\n",
            "Intercepto (Ordenada al origen, β₀): -3.8958\n",
            "\n",
            "Ecuación de Regresión: Y = -3.8958 + 1.1930 * X\n"
          ]
        }
      ],
      "source": [
        "# Construcción del modelo  y Coeficientes del modelo\n",
        "modelo_regresion = LinearRegression()\n",
        "\n",
        "# Reshape the 'poblation' column to a 2D array\n",
        "x = df['poblation'].values.reshape(-1, 1)\n",
        "y = df['profit']\n",
        "\n",
        "#Entrenar el modelo\n",
        "modelo_regresion.fit(x, y)\n",
        "print(\"Modelo entrenado exitosamente!\")\n",
        "\n",
        "pendiente = modelo_regresion.coef_[0]\n",
        "intercepto = modelo_regresion.intercept_\n",
        "\n",
        "print(f\"\\nCoeficiente (Pendiente, β₁): {pendiente:.4f}\")\n",
        "print(f\"Intercepto (Ordenada al origen, β₀): {intercepto:.4f}\")\n",
        "\n",
        "print(f\"\\nEcuación de Regresión: Y = {intercepto:.4f} + {pendiente:.4f} * X\")\n",
        "\n"
      ]
    },
    {
      "cell_type": "markdown",
      "id": "ad94556c",
      "metadata": {
        "id": "ad94556c"
      },
      "source": [
        "### 3.2 Visualización del modelo\n",
        "1. Grafica los puntos originales (poblation vs profit) y dibuja la línea de regresión ajustada.\n",
        "2. Asegúrate de incluir leyenda y títulos."
      ]
    },
    {
      "cell_type": "code",
      "execution_count": 16,
      "id": "49dbd303",
      "metadata": {
        "id": "49dbd303",
        "colab": {
          "base_uri": "https://localhost:8080/",
          "height": 472
        },
        "outputId": "db13bcdb-fbf7-4c0c-e36c-889b12b0ac58"
      },
      "outputs": [
        {
          "output_type": "display_data",
          "data": {
            "text/plain": [
              "<Figure size 640x480 with 1 Axes>"
            ],
            "image/png": "[encoded data removed]"
          },
          "metadata": {}
        }
      ],
      "source": [
        "# Visualización del modelo ajustado\n",
        "\n",
        "# Graficar los puntos originales\n",
        "plt.scatter(x, y, label='Datos originales')\n",
        "\n",
        "# Dibujar la línea de regresión ajustada\n",
        "plt.plot(x, modelo_regresion.predict(x), color='red', label='Línea de regresión')\n",
        "\n",
        "# Añadir etiquetas y título\n",
        "plt.xlabel('Población (x10,000)')\n",
        "plt.ylabel('Ganancia (x10,000$)')\n",
        "plt.title('Regresión Lineal Simple: Ganancia vs Población')\n",
        "plt.legend()\n",
        "plt.grid(True)\n",
        "plt.show()"
      ]
    },
    {
      "cell_type": "markdown",
      "id": "073a73d4",
      "metadata": {
        "id": "073a73d4"
      },
      "source": [
        "## Parte 4: Supuestos del modelo de regresión lineal\n",
        "\n",
        "### 4.1. Normalidad de los residuos\n",
        "1. Calcula los residuos (reales - predichos).\n",
        "2. Grafica un **histograma con KDE** de los residuos.\n",
        "3. Responde: ¿Los residuos siguen una distribución normal?"
      ]
    },
    {
      "cell_type": "code",
      "execution_count": null,
      "id": "5bd20356",
      "metadata": {
        "id": "5bd20356"
      },
      "outputs": [],
      "source": [
        "# Normalidad de los residuos\n"
      ]
    },
    {
      "cell_type": "markdown",
      "id": "8aef2174",
      "metadata": {
        "id": "8aef2174"
      },
      "source": [
        "### 4.2. Homocedasticidad\n",
        "1. Grafica los residuos vs valores predichos.\n",
        "2. ¿Los residuos están distribuidos aleatoriamente o muestran un patrón?"
      ]
    },
    {
      "cell_type": "code",
      "execution_count": null,
      "id": "bcaa539c",
      "metadata": {
        "id": "bcaa539c"
      },
      "outputs": [],
      "source": [
        "# Gráfico de residuos vs predichos\n"
      ]
    },
    {
      "cell_type": "markdown",
      "source": [
        "### 4.3. Q-Q Plot para evaluar la normalidad\n",
        "1. Grafica el Q-Q Plot:.\n",
        "2. Interpreta el gráfico: a) Si los puntos se alinean aproximadamente sobre la línea diagonal, los residuos siguen una distribución normal y b) Desviaciones sistemáticas indican asimetría o colas pesadas."
      ],
      "metadata": {
        "id": "RPg6BDvPJEDm"
      },
      "id": "RPg6BDvPJEDm"
    },
    {
      "cell_type": "code",
      "source": [
        "# Q-Q Plot\n"
      ],
      "metadata": {
        "id": "FWq_n2rLJn8j"
      },
      "id": "FWq_n2rLJn8j",
      "execution_count": null,
      "outputs": []
    },
    {
      "cell_type": "markdown",
      "id": "d538c70c",
      "metadata": {
        "id": "d538c70c"
      },
      "source": [
        "## Parte 5: Evaluación del modelo\n",
        "1. Calcula las métricas:\n",
        "- MSE\n",
        "- RMSE\n",
        "- R²\n",
        "2. Interpreta: ¿Qué nos dicen sobre el ajuste del modelo?"
      ]
    },
    {
      "cell_type": "code",
      "execution_count": 13,
      "id": "6a2e749d",
      "metadata": {
        "id": "6a2e749d",
        "colab": {
          "base_uri": "https://localhost:8080/"
        },
        "outputId": "7426456e-666a-4510-8c11-a14ebba51862"
      },
      "outputs": [
        {
          "output_type": "stream",
          "name": "stdout",
          "text": [
            "\n",
            "Coeficiente de Determinación (R²): 0.7020\n"
          ]
        }
      ],
      "source": [
        "# Evaluación del modelo\n",
        "# Evaluar la calidad del modelo (R-cuadrado)\n",
        "r_cuadrado = modelo_regresion.score(x, y)\n",
        "\n",
        "print(f\"\\nCoeficiente de Determinación (R²): {r_cuadrado:.4f}\")"
      ]
    },
    {
      "cell_type": "markdown",
      "id": "d2ee2c3e",
      "metadata": {
        "id": "d2ee2c3e"
      },
      "source": [
        "## Parte 6: Conclusiones\n",
        "Responde con tus propias palabras:\n",
        "- ¿Qué tan útil consideras el modelo?\n",
        "- ¿Qué limitaciones encuentras?\n",
        "- ¿Crees que es necesario hacer un ajuste o estandarización a las variables dependientes o independientes?  Si crees que es necesario hacerlo realiza el ajuste."
      ]
    }
  ],
  "metadata": {
    "colab": {
      "provenance": [],
      "include_colab_link": true
    },
    "language_info": {
      "name": "python"
    },
    "kernelspec": {
      "name": "python3",
      "display_name": "Python 3"
    }
  },
  "nbformat": 4,
  "nbformat_minor": 5
}