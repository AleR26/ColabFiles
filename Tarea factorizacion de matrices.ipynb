{
  "cells": [
    {
      "cell_type": "markdown",
      "metadata": {
        "id": "view-in-github",
        "colab_type": "text"
      },
      "source": [
        "<a href=\"https://colab.research.google.com/github/AleR26/ColabFiles/blob/main/Tarea%20factorizacion%20de%20matrices.ipynb\" target=\"_parent\"><img src=\"https://colab.research.google.com/assets/colab-badge.svg\" alt=\"Open In Colab\"/></a>"
      ]
    },
    {
      "cell_type": "markdown",
      "id": "a21ea8e1",
      "metadata": {
        "id": "a21ea8e1"
      },
      "source": [
        "# Taller: Factorización de Matrices en Ciencia de Datos"
      ]
    },
    {
      "cell_type": "code",
      "execution_count": 7,
      "id": "f6b067aa",
      "metadata": {
        "id": "f6b067aa"
      },
      "outputs": [],
      "source": [
        "import numpy as np\n",
        "from scipy.linalg import lu, cholesky, qr, svd\n",
        "\n",
        "# Matriz B diagonalmente predominante\n",
        "A = np.array([[57/4, 15/2, -2],\n",
        "              [-2, 15/2, -3],\n",
        "              [-3, -2, 15/2]], dtype=float)"
      ]
    },
    {
      "cell_type": "markdown",
      "id": "f47edb1c",
      "metadata": {
        "id": "f47edb1c"
      },
      "source": [
        "## Descomponer A=LU y verificar la reconstrucción."
      ]
    },
    {
      "cell_type": "code",
      "execution_count": 8,
      "id": "0dd9b161",
      "metadata": {
        "colab": {
          "base_uri": "https://localhost:8080/"
        },
        "id": "0dd9b161",
        "outputId": "7e119b8b-688c-4508-8274-944f07cef6e9"
      },
      "outputs": [
        {
          "output_type": "stream",
          "name": "stdout",
          "text": [
            "Matriz L:\n",
            " [[ 1.          0.          0.        ]\n",
            " [-0.14035088  1.          0.        ]\n",
            " [-0.21052632 -0.04923077  1.        ]]\n",
            "Matriz U:\n",
            " [[14.25        7.5        -2.        ]\n",
            " [ 0.          8.55263158 -3.28070175]\n",
            " [ 0.          0.          6.9174359 ]]\n",
            "Reconstrucción:\n",
            " [[14.25  7.5  -2.  ]\n",
            " [-2.    7.5  -3.  ]\n",
            " [-3.   -2.    7.5 ]]\n",
            "Multiplicacion:\n",
            " [[14.25  7.5  -2.  ]\n",
            " [-2.    7.5  -3.  ]\n",
            " [-3.   -2.    7.5 ]]\n"
          ]
        }
      ],
      "source": [
        "P, L, U = lu(A)\n",
        "print(\"Matriz L:\\n\", L)\n",
        "print(\"Matriz U:\\n\", U)\n",
        "\n",
        "# Verificación\n",
        "print(\"Reconstrucción:\\n\", P @ L @ U)\n",
        "\n",
        "print(\"Multiplicacion:\\n\",P@A)"
      ]
    },
    {
      "cell_type": "markdown",
      "id": "d7563379",
      "metadata": {
        "id": "d7563379"
      },
      "source": [
        "## Descomponer A = QR"
      ]
    },
    {
      "cell_type": "code",
      "execution_count": 9,
      "id": "2495ec23",
      "metadata": {
        "colab": {
          "base_uri": "https://localhost:8080/"
        },
        "id": "2495ec23",
        "outputId": "039f6b1f-fe7a-4bb1-9cf1-d9078210ec51"
      },
      "outputs": [
        {
          "output_type": "stream",
          "name": "stdout",
          "text": [
            "Matriz Q:\n",
            " [[-0.96944944 -0.12299584  0.21222582]\n",
            " [ 0.13606308 -0.9895342   0.04805113]\n",
            " [ 0.20409462  0.07545924  0.97603857]]\n",
            "Matriz R:\n",
            " [[-14.6990646   -6.65858697   3.0614193 ]\n",
            " [  0.          -8.49489373   3.78053856]\n",
            " [  0.           0.           6.75168424]]\n",
            "Reconstrucción:\n",
            " [[14.25  7.5  -2.  ]\n",
            " [-2.    7.5  -3.  ]\n",
            " [-3.   -2.    7.5 ]]\n"
          ]
        }
      ],
      "source": [
        "Q, R = qr(A)\n",
        "print(\"Matriz Q:\\n\", Q)\n",
        "print(\"Matriz R:\\n\", R)\n",
        "print(\"Reconstrucción:\\n\", Q @ R)"
      ]
    },
    {
      "cell_type": "markdown",
      "id": "c17d1774",
      "metadata": {
        "id": "c17d1774"
      },
      "source": [
        "## Descomponer y Analizar valores singulares"
      ]
    },
    {
      "cell_type": "code",
      "execution_count": 10,
      "id": "a7985b3f",
      "metadata": {
        "colab": {
          "base_uri": "https://localhost:8080/"
        },
        "id": "a7985b3f",
        "outputId": "725c7a0a-e284-41ef-f023-9c8638fa0880"
      },
      "outputs": [
        {
          "output_type": "stream",
          "name": "stdout",
          "text": [
            "Valores singulares: [17.18718361  8.59178773  5.70915083]\n",
            "Reconstrucción:\n",
            " [[14.25  7.5  -2.  ]\n",
            " [-2.    7.5  -3.  ]\n",
            " [-3.   -2.    7.5 ]]\n"
          ]
        }
      ],
      "source": [
        "U, s, Vt = svd(A)\n",
        "print(\"Valores singulares:\", s)\n",
        "print(\"Reconstrucción:\\n\", U @ np.diag(s) @ Vt)"
      ]
    },
    {
      "cell_type": "code",
      "source": [],
      "metadata": {
        "id": "mV2gwx7D_ocl"
      },
      "id": "mV2gwx7D_ocl",
      "execution_count": null,
      "outputs": []
    }
  ],
  "metadata": {
    "kernelspec": {
      "display_name": "Python 3",
      "language": "python",
      "name": "python3"
    },
    "language_info": {
      "codemirror_mode": {
        "name": "ipython",
        "version": 3
      },
      "file_extension": ".py",
      "mimetype": "text/x-python",
      "name": "python",
      "nbconvert_exporter": "python",
      "pygments_lexer": "ipython3",
      "version": "3.12.3"
    },
    "colab": {
      "provenance": [],
      "include_colab_link": true
    }
  },
  "nbformat": 4,
  "nbformat_minor": 5
}