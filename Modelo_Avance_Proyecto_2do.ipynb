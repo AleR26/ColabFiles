{
  "cells": [
    {
      "cell_type": "markdown",
      "id": "00a47954",
      "metadata": {
        "id": "00a47954"
      },
      "source": [
        "# Avance del Proyecto\n",
        "\n",
        "[Escribe aquí el Título del Proyecto]\n",
        "\n",
        "\n",
        "**Etapas: Métricas de Calidad de los Datos, Análisis Descriptivo y Preprocesamiento**\n",
        "\n",
        "Nombre: [Nombre y Apellidos]\n",
        "\n",
        "Matrícula:\n",
        "\n",
        "Fecha: [dd/mm/aaaa]"
      ]
    },
    {
      "cell_type": "markdown",
      "id": "8142fb38",
      "metadata": {
        "id": "8142fb38"
      },
      "source": [
        "## 1) Introducción\n",
        "- Descripción breve del problema que se pretende abordar.\n",
        "- Objetivo general del proyecto y objetivos específicos.\n",
        "- Contexto del dataset en relación con el problema planteado."
      ]
    },
    {
      "cell_type": "markdown",
      "id": "dd901b04",
      "metadata": {
        "id": "dd901b04"
      },
      "source": [
        "## 2) Descripción del dataset\n",
        "- Fuente de los datos.\n",
        "- Número de registros y variables.\n",
        "- Variables principales de interés.\n",
        "- Limitaciones del dataset."
      ]
    },
    {
      "cell_type": "code",
      "execution_count": null,
      "id": "03530934",
      "metadata": {
        "id": "03530934"
      },
      "outputs": [],
      "source": [
        "import pandas as pd\n",
        "\n",
        "# Ejemplo: Dataset Titanic\n",
        "df = pd.read_csv(\"https://raw.githubusercontent.com/datasciencedojo/datasets/master/titanic.csv\")\n",
        "\n",
        "print(\"Dimensiones:\", df.shape)\n",
        "df.head()"
      ]
    },
    {
      "cell_type": "markdown",
      "id": "d29c5153",
      "metadata": {
        "id": "d29c5153"
      },
      "source": [
        "## 3) Preguntas de análisis descriptivo\n",
        "- Formular al menos tres preguntas directamente relacionadas con el problema del proyecto.\n",
        "\n",
        "Ejemplos:\n",
        "- ¿Cuál es la distribución de la variable objetivo?\n",
        "- ¿Qué diferencias existen entre categorías relevantes (ejemplo: clientes con y sin deuda, hombres y mujeres, productos por región)?\n",
        "- ¿Existen valores atípicos que distorsionen la interpretación del conjunto de datos?"
      ]
    },
    {
      "cell_type": "markdown",
      "id": "a9cd03b0",
      "metadata": {
        "id": "a9cd03b0"
      },
      "source": [
        "## 4) Métricas de calidad de los datos"
      ]
    },
    {
      "cell_type": "code",
      "execution_count": null,
      "id": "1f60a557",
      "metadata": {
        "id": "1f60a557"
      },
      "outputs": [],
      "source": [
        "# Valores faltantes\n",
        "df.isnull().sum()\n",
        "\n",
        "# Duplicados\n",
        "df.duplicated().sum()\n",
        "\n",
        "# Tipos de datos\n",
        "df.dtypes"
      ]
    },
    {
      "cell_type": "markdown",
      "id": "c84f3414",
      "metadata": {
        "id": "c84f3414"
      },
      "source": [
        "## 5) Análisis descriptivo de los datos"
      ]
    },
    {
      "cell_type": "code",
      "execution_count": null,
      "id": "81f81d73",
      "metadata": {
        "id": "81f81d73"
      },
      "outputs": [],
      "source": [
        "# Estadísticos básicos\n",
        "df.describe()\n",
        "\n",
        "# Tabla de frecuencias (ejemplo con variable categórica)\n",
        "df['Sex'].value_counts()\n",
        "\n",
        "# Histograma de edades\n",
        "df['Age'].plot(kind='hist', bins=20, title='Distribución de la Edad');"
      ]
    },
    {
      "cell_type": "markdown",
      "id": "73945424",
      "metadata": {
        "id": "73945424"
      },
      "source": [
        "## 6) Preprocesamiento de los datos"
      ]
    },
    {
      "cell_type": "code",
      "execution_count": null,
      "id": "ca1f255f",
      "metadata": {
        "id": "ca1f255f"
      },
      "outputs": [],
      "source": [
        "# Imputación de valores faltantes\n",
        "df['Age'].fillna(df['Age'].mean(), inplace=True)\n",
        "\n",
        "# Eliminación de duplicados\n",
        "df = df.drop_duplicates()\n",
        "\n",
        "# Conversión de tipo de dato\n",
        "df['Survived'] = df['Survived'].astype('category')"
      ]
    },
    {
      "cell_type": "markdown",
      "id": "ad511b89",
      "metadata": {
        "id": "ad511b89"
      },
      "source": [
        "## 7) Conclusiones parciales\n",
        "- Principales hallazgos en calidad, análisis descriptivo y preprocesamiento.\n",
        "- Estado de preparación del dataset para fases posteriores."
      ]
    }
  ],
  "metadata": {
    "colab": {
      "provenance": []
    }
  },
  "nbformat": 4,
  "nbformat_minor": 5
}