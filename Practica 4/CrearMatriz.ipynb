{
  "nbformat": 4,
  "nbformat_minor": 0,
  "metadata": {
    "colab": {
      "provenance": [],
      "authorship_tag": "ABX9TyO10S7kOqCOZQcOO2wJgGRz",
      "include_colab_link": true
    },
    "kernelspec": {
      "name": "python3",
      "display_name": "Python 3"
    },
    "language_info": {
      "name": "python"
    }
  },
  "cells": [
    {
      "cell_type": "markdown",
      "metadata": {
        "id": "view-in-github",
        "colab_type": "text"
      },
      "source": [
        "<a href=\"https://colab.research.google.com/github/AleR26/ColabFiles/blob/main/Practica%203/CrearMatriz.ipynb\" target=\"_parent\"><img src=\"https://colab.research.google.com/assets/colab-badge.svg\" alt=\"Open In Colab\"/></a>"
      ]
    },
    {
      "cell_type": "markdown",
      "source": [
        "#Manipulación de matrices\n",
        "\n",
        "---\n",
        "\n"
      ],
      "metadata": {
        "id": "3iNvnApEhbbe"
      }
    },
    {
      "cell_type": "markdown",
      "source": [
        "Manipilacion de matrices"
      ],
      "metadata": {
        "id": "HwWhCiX6FJwb"
      }
    },
    {
      "cell_type": "code",
      "source": [
        "arrA = np.random.randint(1, 10, (3, 3))\n",
        "arrB = np.random.randint(1, 10, (3, 3))\n",
        "\n",
        "print(\"Matriz A:\")\n",
        "print(arrA)\n",
        "print(\"Matriz B:\")\n",
        "print(arrB)\n",
        "print(\"Suma de matrices:\", arrA + arrB)\n",
        "print(\"Resta de matrices:\", arrA - arrB)\n",
        "print(\"Multiplicar la primer matriz por 2\", arrA*2)\n",
        "print(\"Multiplicación matricial:\", np.dot(arrA, arrB))"
      ],
      "metadata": {
        "id": "rdq9csNIhGVf",
        "outputId": "bad37e03-e35e-445a-ace3-c2f74c223980",
        "colab": {
          "base_uri": "https://localhost:8080/"
        }
      },
      "execution_count": null,
      "outputs": [
        {
          "output_type": "stream",
          "name": "stdout",
          "text": [
            "Matriz A:\n",
            "[[9 4 9]\n",
            " [5 2 6]\n",
            " [4 7 3]]\n",
            "Matriz B:\n",
            "[[5 3 4]\n",
            " [2 6 1]\n",
            " [8 8 3]]\n",
            "Suma de matrices: [[14  7 13]\n",
            " [ 7  8  7]\n",
            " [12 15  6]]\n",
            "Resta de matrices: [[ 4  1  5]\n",
            " [ 3 -4  5]\n",
            " [-4 -1  0]]\n",
            "Multiplicar la primer matriz por 2 [[18  8 18]\n",
            " [10  4 12]\n",
            " [ 8 14  6]]\n",
            "Multiplicación matricial: [[125 123  67]\n",
            " [ 77  75  40]\n",
            " [ 58  78  32]]\n"
          ]
        }
      ]
    },
    {
      "cell_type": "code",
      "source": [],
      "metadata": {
        "id": "m0EUw0x7ER6-"
      },
      "execution_count": null,
      "outputs": []
    }
  ]
}