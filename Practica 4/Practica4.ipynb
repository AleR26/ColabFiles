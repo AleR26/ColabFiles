{
  "nbformat": 4,
  "nbformat_minor": 0,
  "metadata": {
    "colab": {
      "provenance": [],
      "authorship_tag": "ABX9TyMhhfzkRO9Eb7X9v4kcRCol",
      "include_colab_link": true
    },
    "kernelspec": {
      "name": "python3",
      "display_name": "Python 3"
    },
    "language_info": {
      "name": "python"
    }
  },
  "cells": [
    {
      "cell_type": "markdown",
      "metadata": {
        "id": "view-in-github",
        "colab_type": "text"
      },
      "source": [
        "<a href=\"https://colab.research.google.com/github/AleR26/ColabFiles/blob/main/Practica4.ipynb\" target=\"_parent\"><img src=\"https://colab.research.google.com/assets/colab-badge.svg\" alt=\"Open In Colab\"/></a>"
      ]
    },
    {
      "cell_type": "markdown",
      "source": [
        "#Manipulación de matrices\n",
        "\n",
        "---\n",
        "\n"
      ],
      "metadata": {
        "id": "Aw4oIoMIcwsN"
      }
    },
    {
      "cell_type": "code",
      "source": [
        "import numpy as np"
      ],
      "metadata": {
        "id": "papIJENPc6TF"
      },
      "execution_count": 2,
      "outputs": []
    },
    {
      "cell_type": "code",
      "execution_count": 3,
      "metadata": {
        "colab": {
          "base_uri": "https://localhost:8080/"
        },
        "id": "bIWg3x6pcnbr",
        "outputId": "161c36b0-c742-441a-81d7-b3a9d83f3622"
      },
      "outputs": [
        {
          "output_type": "stream",
          "name": "stdout",
          "text": [
            "Matriz A:\n",
            "[[8 7 2]\n",
            " [1 4 8]\n",
            " [6 7 9]]\n",
            "Matriz B:\n",
            "[[4 9 9]\n",
            " [4 4 5]\n",
            " [1 7 2]]\n",
            "Suma de matrices: [[12 16 11]\n",
            " [ 5  8 13]\n",
            " [ 7 14 11]]\n",
            "Resta de matrices: [[ 4 -2 -7]\n",
            " [-3  0  3]\n",
            " [ 5  0  7]]\n",
            "Multiplicar la primer matriz por 2 [[16 14  4]\n",
            " [ 2  8 16]\n",
            " [12 14 18]]\n",
            "Multiplicación matricial: [[ 62 114 111]\n",
            " [ 28  81  45]\n",
            " [ 61 145 107]]\n"
          ]
        }
      ],
      "source": [
        "arrA = np.random.randint(1, 10, (3, 3))\n",
        "arrB = np.random.randint(1, 10, (3, 3))\n",
        "\n",
        "print(\"Matriz A:\")\n",
        "print(arrA)\n",
        "print(\"Matriz B:\")\n",
        "print(arrB)\n",
        "print(\"Suma de matrices:\", arrA + arrB)\n",
        "print(\"Resta de matrices:\", arrA - arrB)\n",
        "print(\"Multiplicar la primer matriz por 2\", arrA*2)\n",
        "print(\"Multiplicación matricial:\", np.dot(arrA, arrB))"
      ]
    },
    {
      "cell_type": "code",
      "source": [],
      "metadata": {
        "id": "v2I1JZZpc2UG"
      },
      "execution_count": null,
      "outputs": []
    }
  ]
}