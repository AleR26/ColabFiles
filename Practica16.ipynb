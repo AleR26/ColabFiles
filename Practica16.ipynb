{
  "nbformat": 4,
  "nbformat_minor": 0,
  "metadata": {
    "colab": {
      "provenance": [],
      "authorship_tag": "ABX9TyPGbLco39J1KJyQIxDccO6V",
      "include_colab_link": true
    },
    "kernelspec": {
      "name": "python3",
      "display_name": "Python 3"
    },
    "language_info": {
      "name": "python"
    }
  },
  "cells": [
    {
      "cell_type": "markdown",
      "metadata": {
        "id": "view-in-github",
        "colab_type": "text"
      },
      "source": [
        "<a href=\"https://colab.research.google.com/github/AleR26/ColabFiles/blob/main/Practica16.ipynb\" target=\"_parent\"><img src=\"https://colab.research.google.com/assets/colab-badge.svg\" alt=\"Open In Colab\"/></a>"
      ]
    },
    {
      "cell_type": "markdown",
      "source": [
        "Práctica #16: Datos Duplicados\n"
      ],
      "metadata": {
        "id": "zyDUfY1AKE_T"
      }
    },
    {
      "cell_type": "code",
      "execution_count": 23,
      "metadata": {
        "colab": {
          "base_uri": "https://localhost:8080/"
        },
        "id": "3fHFGnuGKC5W",
        "outputId": "127b4d03-90e9-424b-8e8e-2ed0ea10402e"
      },
      "outputs": [
        {
          "output_type": "stream",
          "name": "stdout",
          "text": [
            "Drive already mounted at /content/drive; to attempt to forcibly remount, call drive.mount(\"/content/drive\", force_remount=True).\n"
          ]
        }
      ],
      "source": [
        "from google.colab import drive\n",
        "drive.mount('/content/drive')"
      ]
    },
    {
      "cell_type": "markdown",
      "source": [
        "Ejercicio 01. Datos Perdidos."
      ],
      "metadata": {
        "id": "JwXNehDBK8l7"
      }
    },
    {
      "cell_type": "code",
      "source": [
        "import pandas as pd\n",
        "\n",
        "df = pd.read_csv('/content/drive/MyDrive/ClassFiles/dirtydata.csv')\n",
        "print(df.head(3))\n",
        "data_lost = df.isnull().sum()\n",
        "print(\"\\n Datos perdidos\")\n",
        "print(data_lost)\n",
        "median_ca = df['Calories'].mean()\n",
        "print(\"Media de la columna calorias: \", median_ca)\n",
        "# Fill missing values in 'Calories' column with the mean\n",
        "df['Calories'].fillna(median_ca, inplace=True)\n",
        "new_median_ca = df['Calories'].mean()\n",
        "print(\"Promedio despues de imputacion: \", new_median_ca)"
      ],
      "metadata": {
        "colab": {
          "base_uri": "https://localhost:8080/"
        },
        "id": "8iKewgP8KlfG",
        "outputId": "fba8a84e-1266-43b3-d1ea-66a2f4ff4c82"
      },
      "execution_count": 28,
      "outputs": [
        {
          "output_type": "stream",
          "name": "stdout",
          "text": [
            "   Duration          Date  Pulse  Maxpulse  Calories\n",
            "0        60  '2020/12/01'    110       130     409.1\n",
            "1        60  '2020/12/02'    117       145     479.0\n",
            "2        60  '2020/12/03'    103       135     340.0\n",
            "\n",
            " Datos perdidos\n",
            "Duration    0\n",
            "Date        1\n",
            "Pulse       0\n",
            "Maxpulse    0\n",
            "Calories    2\n",
            "dtype: int64\n",
            "Media de la columna calorias:  304.68\n",
            "Promedio despues de imputacion:  304.67999999999995\n"
          ]
        },
        {
          "output_type": "stream",
          "name": "stderr",
          "text": [
            "/tmp/ipython-input-880048231.py:11: FutureWarning: A value is trying to be set on a copy of a DataFrame or Series through chained assignment using an inplace method.\n",
            "The behavior will change in pandas 3.0. This inplace method will never work because the intermediate object on which we are setting values always behaves as a copy.\n",
            "\n",
            "For example, when doing 'df[col].method(value, inplace=True)', try using 'df.method({col: value}, inplace=True)' or df[col] = df[col].method(value) instead, to perform the operation inplace on the original object.\n",
            "\n",
            "\n",
            "  df['Calories'].fillna(median_ca, inplace=True)\n"
          ]
        }
      ]
    },
    {
      "cell_type": "markdown",
      "source": [
        "Ejercicio 02. Duplicidad Parcial Una columna: Contar y Filtrar los registros duplicados en Duration\n",
        "\n"
      ],
      "metadata": {
        "id": "AhK7GUNWQhMd"
      }
    },
    {
      "cell_type": "code",
      "source": [
        "total_duration = df['Duration'].duplicated().sum()\n",
        "print(\"Total duplicados en Duration: \",total_duration)\n",
        "print(df.value_counts())\n",
        "df_filter = df[df.duplicated() == True]\n",
        "print(df_filter)"
      ],
      "metadata": {
        "colab": {
          "base_uri": "https://localhost:8080/"
        },
        "id": "wsNy_ZlUK1sL",
        "outputId": "ea9e0fe2-eb38-47b1-99d8-6ef737f0c6b1"
      },
      "execution_count": 38,
      "outputs": [
        {
          "output_type": "stream",
          "name": "stdout",
          "text": [
            "Total duplicados en Duration:  28\n",
            "Duration  Date          Pulse  Maxpulse  Calories\n",
            "60        '2020/12/12'  100    120       250.70      2\n",
            "30        '2020/12/09'  109    133       195.10      1\n",
            "45        '2020/12/05'  117    148       406.00      1\n",
            "          '2020/12/18'  90     112       304.68      1\n",
            "          '2020/12/20'  97     125       243.00      1\n",
            "          '2020/12/04'  109    175       282.40      1\n",
            "          '2020/12/24'  105    132       246.00      1\n",
            "60        '2020/12/01'  110    130       409.10      1\n",
            "          '2020/12/03'  103    135       340.00      1\n",
            "          '2020/12/02'  117    145       479.00      1\n",
            "          '2020/12/06'  102    127       300.00      1\n",
            "          '2020/12/07'  110    136       374.00      1\n",
            "          '2020/12/10'  98     124       269.00      1\n",
            "          '2020/12/11'  103    147       329.30      1\n",
            "          '2020/12/13'  106    128       345.30      1\n",
            "          '2020/12/14'  104    132       379.30      1\n",
            "          '2020/12/15'  98     123       275.00      1\n",
            "          '2020/12/16'  98     120       215.20      1\n",
            "          '2020/12/17'  100    120       300.00      1\n",
            "          '2020/12/19'  103    123       323.00      1\n",
            "          '2020/12/21'  108    131       364.20      1\n",
            "          '2020/12/23'  130    101       300.00      1\n",
            "          '2020/12/25'  102    126       334.50      1\n",
            "          '2020/12/27'  92     118       241.00      1\n",
            "          '2020/12/28'  103    132       304.68      1\n",
            "          '2020/12/29'  100    132       280.00      1\n",
            "          '2020/12/30'  102    129       380.30      1\n",
            "          '2020/12/31'  92     115       243.00      1\n",
            "          20201226      100    120       250.00      1\n",
            "450       '2020/12/08'  104    134       253.30      1\n",
            "Name: count, dtype: int64\n",
            "    Duration          Date  Pulse  Maxpulse  Calories\n",
            "12        60  '2020/12/12'    100       120     250.7\n"
          ]
        }
      ]
    },
    {
      "cell_type": "code",
      "source": [],
      "metadata": {
        "id": "BAFzjxLTQ3u6"
      },
      "execution_count": null,
      "outputs": []
    }
  ]
}