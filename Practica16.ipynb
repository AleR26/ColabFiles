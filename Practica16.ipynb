{
  "nbformat": 4,
  "nbformat_minor": 0,
  "metadata": {
    "colab": {
      "provenance": [],
      "authorship_tag": "ABX9TyPjebtDRu0ZQQC8QxoLZjtW",
      "include_colab_link": true
    },
    "kernelspec": {
      "name": "python3",
      "display_name": "Python 3"
    },
    "language_info": {
      "name": "python"
    }
  },
  "cells": [
    {
      "cell_type": "markdown",
      "metadata": {
        "id": "view-in-github",
        "colab_type": "text"
      },
      "source": [
        "<a href=\"https://colab.research.google.com/github/AleR26/ColabFiles/blob/main/Practica16.ipynb\" target=\"_parent\"><img src=\"https://colab.research.google.com/assets/colab-badge.svg\" alt=\"Open In Colab\"/></a>"
      ]
    },
    {
      "cell_type": "markdown",
      "source": [
        "Práctica #16: Datos Duplicados\n"
      ],
      "metadata": {
        "id": "zyDUfY1AKE_T"
      }
    },
    {
      "cell_type": "code",
      "execution_count": 1,
      "metadata": {
        "colab": {
          "base_uri": "https://localhost:8080/"
        },
        "id": "3fHFGnuGKC5W",
        "outputId": "f32cfa95-d304-4c72-a031-254a9d7f6d82"
      },
      "outputs": [
        {
          "output_type": "stream",
          "name": "stdout",
          "text": [
            "Mounted at /content/drive\n"
          ]
        }
      ],
      "source": [
        "from google.colab import drive\n",
        "drive.mount('/content/drive')"
      ]
    },
    {
      "cell_type": "markdown",
      "source": [
        "Ejercicio 01. Datos Perdidos."
      ],
      "metadata": {
        "id": "JwXNehDBK8l7"
      }
    },
    {
      "cell_type": "code",
      "source": [
        "import pandas as pd\n",
        "\n",
        "df = pd.read_csv('/content/drive/MyDrive/ClassFiles/dirtydata.csv')\n",
        "print(df.head(3))\n",
        "data_lost = df.isnull().sum()\n",
        "print(\"\\n Datos perdidos\")\n",
        "print(data_lost)\n",
        "median_ca = df['Calories'].mean()\n",
        "print(\"Media de la columna calorias: \", median_ca)\n",
        "# Fill missing values in 'Calories' column with the mean\n",
        "df['Calories'].fillna(median_ca, inplace=True)\n",
        "new_median_ca = df['Calories'].mean()\n",
        "print(\"Promedio despues de imputacion: \", new_median_ca)"
      ],
      "metadata": {
        "colab": {
          "base_uri": "https://localhost:8080/"
        },
        "id": "8iKewgP8KlfG",
        "outputId": "bba2585f-0f43-49b2-dcaf-bf87d4bc0dfa"
      },
      "execution_count": 2,
      "outputs": [
        {
          "output_type": "stream",
          "name": "stdout",
          "text": [
            "   Duration          Date  Pulse  Maxpulse  Calories\n",
            "0        60  '2020/12/01'    110       130     409.1\n",
            "1        60  '2020/12/02'    117       145     479.0\n",
            "2        60  '2020/12/03'    103       135     340.0\n",
            "\n",
            " Datos perdidos\n",
            "Duration    0\n",
            "Date        1\n",
            "Pulse       0\n",
            "Maxpulse    0\n",
            "Calories    2\n",
            "dtype: int64\n",
            "Media de la columna calorias:  304.68\n",
            "Promedio despues de imputacion:  304.67999999999995\n"
          ]
        },
        {
          "output_type": "stream",
          "name": "stderr",
          "text": [
            "/tmp/ipython-input-880048231.py:11: FutureWarning: A value is trying to be set on a copy of a DataFrame or Series through chained assignment using an inplace method.\n",
            "The behavior will change in pandas 3.0. This inplace method will never work because the intermediate object on which we are setting values always behaves as a copy.\n",
            "\n",
            "For example, when doing 'df[col].method(value, inplace=True)', try using 'df.method({col: value}, inplace=True)' or df[col] = df[col].method(value) instead, to perform the operation inplace on the original object.\n",
            "\n",
            "\n",
            "  df['Calories'].fillna(median_ca, inplace=True)\n"
          ]
        }
      ]
    },
    {
      "cell_type": "markdown",
      "source": [
        "Ejercicio 02. Duplicidad Parcial Una columna: Contar y Filtrar los registros duplicados en Duration\n",
        "\n"
      ],
      "metadata": {
        "id": "AhK7GUNWQhMd"
      }
    },
    {
      "cell_type": "code",
      "source": [
        "total_duration = df['Duration'].duplicated().sum()\n",
        "print(\"Total duplicados en Duration: \",total_duration)\n",
        "print(df['Duration'].value_counts())\n",
        "df_filter = df[df['Duration'].duplicated() == False]\n",
        "print(\"\\n Dataframe sin duplicados en columna Duration\\n\", df_filter)"
      ],
      "metadata": {
        "colab": {
          "base_uri": "https://localhost:8080/"
        },
        "id": "wsNy_ZlUK1sL",
        "outputId": "961022f5-d013-4bd8-f30f-00ef3dc22756"
      },
      "execution_count": 12,
      "outputs": [
        {
          "output_type": "stream",
          "name": "stdout",
          "text": [
            "Total duplicados en Duration:  28\n",
            "Duration\n",
            "60     24\n",
            "45      6\n",
            "450     1\n",
            "30      1\n",
            "Name: count, dtype: int64\n",
            "\n",
            " Dataframe sin duplicados en columna Duration\n",
            "    Duration          Date  Pulse  Maxpulse  Calories\n",
            "0        60  '2020/12/01'    110       130     409.1\n",
            "3        45  '2020/12/04'    109       175     282.4\n",
            "7       450  '2020/12/08'    104       134     253.3\n",
            "8        30  '2020/12/09'    109       133     195.1\n"
          ]
        }
      ]
    },
    {
      "cell_type": "markdown",
      "source": [
        "Ejercicio 03 Duplicidad Parcial Dos columnaa: Contar y Filtrar los registros duplicados en Pulse y MaxPulse"
      ],
      "metadata": {
        "id": "VIzG83vUPPL6"
      }
    },
    {
      "cell_type": "code",
      "source": [
        "total_duplicados = df[['Pulse','Maxpulse']].duplicated().sum()\n",
        "print(\"Cantidad de duplicados en Pulse y Maxpulse:\", total_duplicados)\n",
        "\n",
        "print(df[['Pulse','Maxpulse']].value_counts())\n",
        "pulse_filter = df[df[['Pulse','Maxpulse']].duplicated(keep='last') == True]\n",
        "print(\"\\nDatos filtrados\\n\",pulse_filter)"
      ],
      "metadata": {
        "id": "BAFzjxLTQ3u6",
        "colab": {
          "base_uri": "https://localhost:8080/"
        },
        "outputId": "2d213002-2a4c-4475-ef82-3aec989d47aa"
      },
      "execution_count": 18,
      "outputs": [
        {
          "output_type": "stream",
          "name": "stdout",
          "text": [
            "Cantidad de duplicados en Pulse y Maxpulse: 3\n",
            "Pulse  Maxpulse\n",
            "100    120         4\n",
            "92     115         1\n",
            "       118         1\n",
            "97     125         1\n",
            "90     112         1\n",
            "98     120         1\n",
            "       123         1\n",
            "       124         1\n",
            "100    119         1\n",
            "       132         1\n",
            "102    126         1\n",
            "       127         1\n",
            "       129         1\n",
            "103    123         1\n",
            "       132         1\n",
            "       135         1\n",
            "       147         1\n",
            "104    132         1\n",
            "       134         1\n",
            "105    132         1\n",
            "106    128         1\n",
            "108    131         1\n",
            "109    133         1\n",
            "       175         1\n",
            "110    130         1\n",
            "       136         1\n",
            "117    145         1\n",
            "       148         1\n",
            "130    101         1\n",
            "Name: count, dtype: int64\n",
            "\n",
            "Datos filtrados\n",
            "     Duration          Date  Pulse  Maxpulse  Calories\n",
            "11        60  '2020/12/12'    100       120     250.7\n",
            "12        60  '2020/12/12'    100       120     250.7\n",
            "17        60  '2020/12/17'    100       120     300.0\n"
          ]
        }
      ]
    },
    {
      "cell_type": "markdown",
      "source": [
        "Ejercicio 04 Duplicidad Total o Exacta: Contar y Filtrar los registros duplicados\n",
        "\n"
      ],
      "metadata": {
        "id": "fl3gyeeNQd5K"
      }
    },
    {
      "cell_type": "code",
      "source": [
        "duplicados_all = df.duplicated().sum()\n",
        "print(\"Duplicidad exacta: \", duplicados_all)\n",
        "filter_all = df[df.duplicated(keep = 'last') == True]\n",
        "print(\"\\nRegistro de datos filtrados: \\n\",filter_all)"
      ],
      "metadata": {
        "colab": {
          "base_uri": "https://localhost:8080/"
        },
        "id": "HT0RyYQ3PtMz",
        "outputId": "6be261f2-d699-4912-d350-38718ab40171"
      },
      "execution_count": 19,
      "outputs": [
        {
          "output_type": "stream",
          "name": "stdout",
          "text": [
            "Duplicidad exacta:  1\n",
            "\n",
            "Registro de datos filtrados: \n",
            "     Duration          Date  Pulse  Maxpulse  Calories\n",
            "11        60  '2020/12/12'    100       120     250.7\n"
          ]
        }
      ]
    },
    {
      "cell_type": "code",
      "source": [
        "media_pulse = df[['Pulse','Maxpulse']].median()\n",
        "print(\"Promedio de Pulse y Maxpulse\\n\", media_pulse)\n",
        "pulse_duplicados = df[['Pulse','Maxpulse']].drop_duplicates(keep = 'last')\n",
        "print(\"\\nPromedio de Pulse y Maxpulse sin duplicados\\n\", pulse_duplicados.mean())"
      ],
      "metadata": {
        "colab": {
          "base_uri": "https://localhost:8080/"
        },
        "id": "8qWZE3FHRCS6",
        "outputId": "804693ee-496e-4934-e5b2-ffd9db25ab8b"
      },
      "execution_count": 27,
      "outputs": [
        {
          "output_type": "stream",
          "name": "stdout",
          "text": [
            "Promedio de Pulse y Maxpulse\n",
            " Pulse       102.5\n",
            "Maxpulse    127.5\n",
            "dtype: float64\n",
            "\n",
            "Promedio de Pulse y Maxpulse sin duplicados\n",
            " Pulse       103.862069\n",
            "Maxpulse    129.379310\n",
            "dtype: float64\n"
          ]
        }
      ]
    },
    {
      "cell_type": "code",
      "source": [],
      "metadata": {
        "id": "IknfpYmOR-Tx"
      },
      "execution_count": null,
      "outputs": []
    }
  ]
}