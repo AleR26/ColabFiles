{
  "nbformat": 4,
  "nbformat_minor": 0,
  "metadata": {
    "colab": {
      "provenance": [],
      "authorship_tag": "ABX9TyNQtFveLSTnV2gOUQdG423K",
      "include_colab_link": true
    },
    "kernelspec": {
      "name": "python3",
      "display_name": "Python 3"
    },
    "language_info": {
      "name": "python"
    }
  },
  "cells": [
    {
      "cell_type": "markdown",
      "metadata": {
        "id": "view-in-github",
        "colab_type": "text"
      },
      "source": [
        "<a href=\"https://colab.research.google.com/github/AleR26/ColabFiles/blob/main/Practica15.ipynb\" target=\"_parent\"><img src=\"https://colab.research.google.com/assets/colab-badge.svg\" alt=\"Open In Colab\"/></a>"
      ]
    },
    {
      "cell_type": "markdown",
      "source": [
        "#Práctica #15: Datos Temporales"
      ],
      "metadata": {
        "id": "c2SYgQU-OxmY"
      }
    },
    {
      "cell_type": "code",
      "execution_count": 1,
      "metadata": {
        "colab": {
          "base_uri": "https://localhost:8080/"
        },
        "id": "5Y9VloOZOQ1p",
        "outputId": "ac644422-5b3e-42fa-b183-d8ec935b5dda"
      },
      "outputs": [
        {
          "output_type": "stream",
          "name": "stdout",
          "text": [
            "Mounted at /content/drive\n"
          ]
        }
      ],
      "source": [
        "from google.colab import drive\n",
        "drive.mount('/content/drive')"
      ]
    },
    {
      "cell_type": "code",
      "source": [
        "import pandas as pd\n",
        "\n",
        "df = pd.read_csv('/content/drive/MyDrive/ClassFiles/Airdata.csv', parse_dates=['DateTime'])\n",
        "df.head(3)"
      ],
      "metadata": {
        "colab": {
          "base_uri": "https://localhost:8080/",
          "height": 143
        },
        "id": "ruAlqf18Od70",
        "outputId": "503d8b26-e6ce-4cce-a806-7303fa6a10b8"
      },
      "execution_count": 12,
      "outputs": [
        {
          "output_type": "execute_result",
          "data": {
            "text/plain": [
              "             DateTime  Temperature  Humidity  Wind_Speed  Wind_Direction  \\\n",
              "0 2020-01-01 00:00:00     2.180529        87    1.484318        75.96376   \n",
              "1 2020-01-01 01:00:00     1.490529        89    2.741678       113.19859   \n",
              "2 2020-01-01 02:00:00     1.690529        85    3.563818       135.00000   \n",
              "\n",
              "   NO2_Location_A  NO2_Location_B  NO2_Location_C  \n",
              "0           39.23           52.88           62.37  \n",
              "1           38.30           44.95           52.53  \n",
              "2             NaN           48.40           54.80  "
            ],
            "text/html": [
              "\n",
              "  <div id=\"df-ec84e6d3-4741-4e96-a5c1-6be1f8040218\" class=\"colab-df-container\">\n",
              "    <div>\n",
              "<style scoped>\n",
              "    .dataframe tbody tr th:only-of-type {\n",
              "        vertical-align: middle;\n",
              "    }\n",
              "\n",
              "    .dataframe tbody tr th {\n",
              "        vertical-align: top;\n",
              "    }\n",
              "\n",
              "    .dataframe thead th {\n",
              "        text-align: right;\n",
              "    }\n",
              "</style>\n",
              "<table border=\"1\" class=\"dataframe\">\n",
              "  <thead>\n",
              "    <tr style=\"text-align: right;\">\n",
              "      <th></th>\n",
              "      <th>DateTime</th>\n",
              "      <th>Temperature</th>\n",
              "      <th>Humidity</th>\n",
              "      <th>Wind_Speed</th>\n",
              "      <th>Wind_Direction</th>\n",
              "      <th>NO2_Location_A</th>\n",
              "      <th>NO2_Location_B</th>\n",
              "      <th>NO2_Location_C</th>\n",
              "    </tr>\n",
              "  </thead>\n",
              "  <tbody>\n",
              "    <tr>\n",
              "      <th>0</th>\n",
              "      <td>2020-01-01 00:00:00</td>\n",
              "      <td>2.180529</td>\n",
              "      <td>87</td>\n",
              "      <td>1.484318</td>\n",
              "      <td>75.96376</td>\n",
              "      <td>39.23</td>\n",
              "      <td>52.88</td>\n",
              "      <td>62.37</td>\n",
              "    </tr>\n",
              "    <tr>\n",
              "      <th>1</th>\n",
              "      <td>2020-01-01 01:00:00</td>\n",
              "      <td>1.490529</td>\n",
              "      <td>89</td>\n",
              "      <td>2.741678</td>\n",
              "      <td>113.19859</td>\n",
              "      <td>38.30</td>\n",
              "      <td>44.95</td>\n",
              "      <td>52.53</td>\n",
              "    </tr>\n",
              "    <tr>\n",
              "      <th>2</th>\n",
              "      <td>2020-01-01 02:00:00</td>\n",
              "      <td>1.690529</td>\n",
              "      <td>85</td>\n",
              "      <td>3.563818</td>\n",
              "      <td>135.00000</td>\n",
              "      <td>NaN</td>\n",
              "      <td>48.40</td>\n",
              "      <td>54.80</td>\n",
              "    </tr>\n",
              "  </tbody>\n",
              "</table>\n",
              "</div>\n",
              "    <div class=\"colab-df-buttons\">\n",
              "\n",
              "  <div class=\"colab-df-container\">\n",
              "    <button class=\"colab-df-convert\" onclick=\"convertToInteractive('df-ec84e6d3-4741-4e96-a5c1-6be1f8040218')\"\n",
              "            title=\"Convert this dataframe to an interactive table.\"\n",
              "            style=\"display:none;\">\n",
              "\n",
              "  <svg xmlns=\"http://www.w3.org/2000/svg\" height=\"24px\" viewBox=\"0 -960 960 960\">\n",
              "    <path d=\"M120-120v-720h720v720H120Zm60-500h600v-160H180v160Zm220 220h160v-160H400v160Zm0 220h160v-160H400v160ZM180-400h160v-160H180v160Zm440 0h160v-160H620v160ZM180-180h160v-160H180v160Zm440 0h160v-160H620v160Z\"/>\n",
              "  </svg>\n",
              "    </button>\n",
              "\n",
              "  <style>\n",
              "    .colab-df-container {\n",
              "      display:flex;\n",
              "      gap: 12px;\n",
              "    }\n",
              "\n",
              "    .colab-df-convert {\n",
              "      background-color: #E8F0FE;\n",
              "      border: none;\n",
              "      border-radius: 50%;\n",
              "      cursor: pointer;\n",
              "      display: none;\n",
              "      fill: #1967D2;\n",
              "      height: 32px;\n",
              "      padding: 0 0 0 0;\n",
              "      width: 32px;\n",
              "    }\n",
              "\n",
              "    .colab-df-convert:hover {\n",
              "      background-color: #E2EBFA;\n",
              "      box-shadow: 0px 1px 2px rgba(60, 64, 67, 0.3), 0px 1px 3px 1px rgba(60, 64, 67, 0.15);\n",
              "      fill: #174EA6;\n",
              "    }\n",
              "\n",
              "    .colab-df-buttons div {\n",
              "      margin-bottom: 4px;\n",
              "    }\n",
              "\n",
              "    [theme=dark] .colab-df-convert {\n",
              "      background-color: #3B4455;\n",
              "      fill: #D2E3FC;\n",
              "    }\n",
              "\n",
              "    [theme=dark] .colab-df-convert:hover {\n",
              "      background-color: #434B5C;\n",
              "      box-shadow: 0px 1px 3px 1px rgba(0, 0, 0, 0.15);\n",
              "      filter: drop-shadow(0px 1px 2px rgba(0, 0, 0, 0.3));\n",
              "      fill: #FFFFFF;\n",
              "    }\n",
              "  </style>\n",
              "\n",
              "    <script>\n",
              "      const buttonEl =\n",
              "        document.querySelector('#df-ec84e6d3-4741-4e96-a5c1-6be1f8040218 button.colab-df-convert');\n",
              "      buttonEl.style.display =\n",
              "        google.colab.kernel.accessAllowed ? 'block' : 'none';\n",
              "\n",
              "      async function convertToInteractive(key) {\n",
              "        const element = document.querySelector('#df-ec84e6d3-4741-4e96-a5c1-6be1f8040218');\n",
              "        const dataTable =\n",
              "          await google.colab.kernel.invokeFunction('convertToInteractive',\n",
              "                                                    [key], {});\n",
              "        if (!dataTable) return;\n",
              "\n",
              "        const docLinkHtml = 'Like what you see? Visit the ' +\n",
              "          '<a target=\"_blank\" href=https://colab.research.google.com/notebooks/data_table.ipynb>data table notebook</a>'\n",
              "          + ' to learn more about interactive tables.';\n",
              "        element.innerHTML = '';\n",
              "        dataTable['output_type'] = 'display_data';\n",
              "        await google.colab.output.renderOutput(dataTable, element);\n",
              "        const docLink = document.createElement('div');\n",
              "        docLink.innerHTML = docLinkHtml;\n",
              "        element.appendChild(docLink);\n",
              "      }\n",
              "    </script>\n",
              "  </div>\n",
              "\n",
              "\n",
              "    <div id=\"df-903ce1d7-8465-45f5-ad32-72a964ad484b\">\n",
              "      <button class=\"colab-df-quickchart\" onclick=\"quickchart('df-903ce1d7-8465-45f5-ad32-72a964ad484b')\"\n",
              "                title=\"Suggest charts\"\n",
              "                style=\"display:none;\">\n",
              "\n",
              "<svg xmlns=\"http://www.w3.org/2000/svg\" height=\"24px\"viewBox=\"0 0 24 24\"\n",
              "     width=\"24px\">\n",
              "    <g>\n",
              "        <path d=\"M19 3H5c-1.1 0-2 .9-2 2v14c0 1.1.9 2 2 2h14c1.1 0 2-.9 2-2V5c0-1.1-.9-2-2-2zM9 17H7v-7h2v7zm4 0h-2V7h2v10zm4 0h-2v-4h2v4z\"/>\n",
              "    </g>\n",
              "</svg>\n",
              "      </button>\n",
              "\n",
              "<style>\n",
              "  .colab-df-quickchart {\n",
              "      --bg-color: #E8F0FE;\n",
              "      --fill-color: #1967D2;\n",
              "      --hover-bg-color: #E2EBFA;\n",
              "      --hover-fill-color: #174EA6;\n",
              "      --disabled-fill-color: #AAA;\n",
              "      --disabled-bg-color: #DDD;\n",
              "  }\n",
              "\n",
              "  [theme=dark] .colab-df-quickchart {\n",
              "      --bg-color: #3B4455;\n",
              "      --fill-color: #D2E3FC;\n",
              "      --hover-bg-color: #434B5C;\n",
              "      --hover-fill-color: #FFFFFF;\n",
              "      --disabled-bg-color: #3B4455;\n",
              "      --disabled-fill-color: #666;\n",
              "  }\n",
              "\n",
              "  .colab-df-quickchart {\n",
              "    background-color: var(--bg-color);\n",
              "    border: none;\n",
              "    border-radius: 50%;\n",
              "    cursor: pointer;\n",
              "    display: none;\n",
              "    fill: var(--fill-color);\n",
              "    height: 32px;\n",
              "    padding: 0;\n",
              "    width: 32px;\n",
              "  }\n",
              "\n",
              "  .colab-df-quickchart:hover {\n",
              "    background-color: var(--hover-bg-color);\n",
              "    box-shadow: 0 1px 2px rgba(60, 64, 67, 0.3), 0 1px 3px 1px rgba(60, 64, 67, 0.15);\n",
              "    fill: var(--button-hover-fill-color);\n",
              "  }\n",
              "\n",
              "  .colab-df-quickchart-complete:disabled,\n",
              "  .colab-df-quickchart-complete:disabled:hover {\n",
              "    background-color: var(--disabled-bg-color);\n",
              "    fill: var(--disabled-fill-color);\n",
              "    box-shadow: none;\n",
              "  }\n",
              "\n",
              "  .colab-df-spinner {\n",
              "    border: 2px solid var(--fill-color);\n",
              "    border-color: transparent;\n",
              "    border-bottom-color: var(--fill-color);\n",
              "    animation:\n",
              "      spin 1s steps(1) infinite;\n",
              "  }\n",
              "\n",
              "  @keyframes spin {\n",
              "    0% {\n",
              "      border-color: transparent;\n",
              "      border-bottom-color: var(--fill-color);\n",
              "      border-left-color: var(--fill-color);\n",
              "    }\n",
              "    20% {\n",
              "      border-color: transparent;\n",
              "      border-left-color: var(--fill-color);\n",
              "      border-top-color: var(--fill-color);\n",
              "    }\n",
              "    30% {\n",
              "      border-color: transparent;\n",
              "      border-left-color: var(--fill-color);\n",
              "      border-top-color: var(--fill-color);\n",
              "      border-right-color: var(--fill-color);\n",
              "    }\n",
              "    40% {\n",
              "      border-color: transparent;\n",
              "      border-right-color: var(--fill-color);\n",
              "      border-top-color: var(--fill-color);\n",
              "    }\n",
              "    60% {\n",
              "      border-color: transparent;\n",
              "      border-right-color: var(--fill-color);\n",
              "    }\n",
              "    80% {\n",
              "      border-color: transparent;\n",
              "      border-right-color: var(--fill-color);\n",
              "      border-bottom-color: var(--fill-color);\n",
              "    }\n",
              "    90% {\n",
              "      border-color: transparent;\n",
              "      border-bottom-color: var(--fill-color);\n",
              "    }\n",
              "  }\n",
              "</style>\n",
              "\n",
              "      <script>\n",
              "        async function quickchart(key) {\n",
              "          const quickchartButtonEl =\n",
              "            document.querySelector('#' + key + ' button');\n",
              "          quickchartButtonEl.disabled = true;  // To prevent multiple clicks.\n",
              "          quickchartButtonEl.classList.add('colab-df-spinner');\n",
              "          try {\n",
              "            const charts = await google.colab.kernel.invokeFunction(\n",
              "                'suggestCharts', [key], {});\n",
              "          } catch (error) {\n",
              "            console.error('Error during call to suggestCharts:', error);\n",
              "          }\n",
              "          quickchartButtonEl.classList.remove('colab-df-spinner');\n",
              "          quickchartButtonEl.classList.add('colab-df-quickchart-complete');\n",
              "        }\n",
              "        (() => {\n",
              "          let quickchartButtonEl =\n",
              "            document.querySelector('#df-903ce1d7-8465-45f5-ad32-72a964ad484b button');\n",
              "          quickchartButtonEl.style.display =\n",
              "            google.colab.kernel.accessAllowed ? 'block' : 'none';\n",
              "        })();\n",
              "      </script>\n",
              "    </div>\n",
              "\n",
              "    </div>\n",
              "  </div>\n"
            ],
            "application/vnd.google.colaboratory.intrinsic+json": {
              "type": "dataframe",
              "variable_name": "df",
              "summary": "{\n  \"name\": \"df\",\n  \"rows\": 8784,\n  \"fields\": [\n    {\n      \"column\": \"DateTime\",\n      \"properties\": {\n        \"dtype\": \"date\",\n        \"min\": \"2020-01-01 00:00:00\",\n        \"max\": \"2020-12-31 23:00:00\",\n        \"num_unique_values\": 8784,\n        \"samples\": [\n          \"2020-09-23 01:00:00\",\n          \"2020-03-03 00:00:00\",\n          \"2020-09-29 11:00:00\"\n        ],\n        \"semantic_type\": \"\",\n        \"description\": \"\"\n      }\n    },\n    {\n      \"column\": \"Temperature\",\n      \"properties\": {\n        \"dtype\": \"number\",\n        \"std\": 7.363943394853986,\n        \"min\": -2.7894714,\n        \"max\": 33.87053,\n        \"num_unique_values\": 2810,\n        \"samples\": [\n          15.310529,\n          32.68053,\n          26.06053\n        ],\n        \"semantic_type\": \"\",\n        \"description\": \"\"\n      }\n    },\n    {\n      \"column\": \"Humidity\",\n      \"properties\": {\n        \"dtype\": \"number\",\n        \"std\": 14,\n        \"min\": 20,\n        \"max\": 98,\n        \"num_unique_values\": 79,\n        \"samples\": [\n          95,\n          87,\n          75\n        ],\n        \"semantic_type\": \"\",\n        \"description\": \"\"\n      }\n    },\n    {\n      \"column\": \"Wind_Speed\",\n      \"properties\": {\n        \"dtype\": \"number\",\n        \"std\": 8.443103411224254,\n        \"min\": 0.0,\n        \"max\": 65.44677,\n        \"num_unique_values\": 1774,\n        \"samples\": [\n          17.174677,\n          23.241617,\n          10.446206\n        ],\n        \"semantic_type\": \"\",\n        \"description\": \"\"\n      }\n    },\n    {\n      \"column\": \"Wind_Direction\",\n      \"properties\": {\n        \"dtype\": \"number\",\n        \"std\": 91.96162685537146,\n        \"min\": 1.2188721,\n        \"max\": 360.0,\n        \"num_unique_values\": 3072,\n        \"samples\": [\n          113.35556,\n          91.08092,\n          267.63376\n        ],\n        \"semantic_type\": \"\",\n        \"description\": \"\"\n      }\n    },\n    {\n      \"column\": \"NO2_Location_A\",\n      \"properties\": {\n        \"dtype\": \"number\",\n        \"std\": 15.597173171007633,\n        \"min\": -0.46,\n        \"max\": 116.6,\n        \"num_unique_values\": 2807,\n        \"samples\": [\n          42.22,\n          50.03,\n          38.33\n        ],\n        \"semantic_type\": \"\",\n        \"description\": \"\"\n      }\n    },\n    {\n      \"column\": \"NO2_Location_B\",\n      \"properties\": {\n        \"dtype\": \"number\",\n        \"std\": 20.630746311298747,\n        \"min\": 0.43,\n        \"max\": 151.85,\n        \"num_unique_values\": 2910,\n        \"samples\": [\n          57.25,\n          13.73,\n          10.5\n        ],\n        \"semantic_type\": \"\",\n        \"description\": \"\"\n      }\n    },\n    {\n      \"column\": \"NO2_Location_C\",\n      \"properties\": {\n        \"dtype\": \"number\",\n        \"std\": 26.735531203921518,\n        \"min\": 0.15,\n        \"max\": 168.28,\n        \"num_unique_values\": 3773,\n        \"samples\": [\n          47.98,\n          58.16,\n          14.35\n        ],\n        \"semantic_type\": \"\",\n        \"description\": \"\"\n      }\n    }\n  ]\n}"
            }
          },
          "metadata": {},
          "execution_count": 12
        }
      ]
    },
    {
      "cell_type": "markdown",
      "source": [
        "Ejercicio 01:Tipo de Datos Correcto\n",
        "\n"
      ],
      "metadata": {
        "id": "S5lCvLWUO5F2"
      }
    },
    {
      "cell_type": "code",
      "source": [
        "print('Tipo de datos: ')\n",
        "print(df.dtypes)"
      ],
      "metadata": {
        "colab": {
          "base_uri": "https://localhost:8080/"
        },
        "id": "Ulpct2IvOul6",
        "outputId": "31ad3b92-f8d9-4254-b609-417280bc4f0c"
      },
      "execution_count": 13,
      "outputs": [
        {
          "output_type": "stream",
          "name": "stdout",
          "text": [
            "Tipo de datos: \n",
            "DateTime          datetime64[ns]\n",
            "Temperature              float64\n",
            "Humidity                   int64\n",
            "Wind_Speed               float64\n",
            "Wind_Direction           float64\n",
            "NO2_Location_A           float64\n",
            "NO2_Location_B           float64\n",
            "NO2_Location_C           float64\n",
            "dtype: object\n"
          ]
        }
      ]
    },
    {
      "cell_type": "markdown",
      "source": [
        "Ejercicio 02: Extraer componentes de fecha y tiempo"
      ],
      "metadata": {
        "id": "zlFrCkZZR0fS"
      }
    },
    {
      "cell_type": "code",
      "source": [
        "import datetime as dt\n",
        "df['year'] = df['DateTime'].dt.year\n",
        "df['month'] = df['DateTime'].dt.month\n",
        "df['day'] = df['DateTime'].dt.day\n",
        "df['hour'] = df['DateTime'].dt.hour\n",
        "print(df.head(3))"
      ],
      "metadata": {
        "colab": {
          "base_uri": "https://localhost:8080/"
        },
        "id": "dw5OI9B-P5Wf",
        "outputId": "329eb110-37ca-470f-ad7c-5227dcc5ade5"
      },
      "execution_count": 21,
      "outputs": [
        {
          "output_type": "stream",
          "name": "stdout",
          "text": [
            "             DateTime  Temperature  Humidity  Wind_Speed  Wind_Direction  \\\n",
            "0 2020-01-01 00:00:00     2.180529        87    1.484318        75.96376   \n",
            "1 2020-01-01 01:00:00     1.490529        89    2.741678       113.19859   \n",
            "2 2020-01-01 02:00:00     1.690529        85    3.563818       135.00000   \n",
            "\n",
            "   NO2_Location_A  NO2_Location_B  NO2_Location_C  year  month  day  hour  \\\n",
            "0           39.23           52.88           62.37  2020      1    1     0   \n",
            "1           38.30           44.95           52.53  2020      1    1     1   \n",
            "2             NaN           48.40           54.80  2020      1    1     2   \n",
            "\n",
            "              NewDate  \n",
            "0 2020-01-11 07:15:00  \n",
            "1 2020-01-11 08:15:00  \n",
            "2 2020-01-11 09:15:00  \n"
          ]
        }
      ]
    },
    {
      "cell_type": "markdown",
      "source": [
        "Ejercicio 03: Aritmética - Suma de Intervalos (timedelta)\n",
        "\n"
      ],
      "metadata": {
        "id": "WcRWWAn6SuNf"
      }
    },
    {
      "cell_type": "code",
      "source": [
        "df['NewDate'] = df['DateTime'] + dt.timedelta(days = 10, hours = 7, minutes = 15)\n",
        "print(df[['DateTime','NewDate']])"
      ],
      "metadata": {
        "colab": {
          "base_uri": "https://localhost:8080/"
        },
        "id": "Pt_rAh68Qbyg",
        "outputId": "c72e46d4-9879-4533-f861-6600396a62cf"
      },
      "execution_count": 22,
      "outputs": [
        {
          "output_type": "stream",
          "name": "stdout",
          "text": [
            "                DateTime             NewDate\n",
            "0    2020-01-01 00:00:00 2020-01-11 07:15:00\n",
            "1    2020-01-01 01:00:00 2020-01-11 08:15:00\n",
            "2    2020-01-01 02:00:00 2020-01-11 09:15:00\n",
            "3    2020-01-01 03:00:00 2020-01-11 10:15:00\n",
            "4    2020-01-01 04:00:00 2020-01-11 11:15:00\n",
            "...                  ...                 ...\n",
            "8779 2020-12-31 19:00:00 2021-01-11 02:15:00\n",
            "8780 2020-12-31 20:00:00 2021-01-11 03:15:00\n",
            "8781 2020-12-31 21:00:00 2021-01-11 04:15:00\n",
            "8782 2020-12-31 22:00:00 2021-01-11 05:15:00\n",
            "8783 2020-12-31 23:00:00 2021-01-11 06:15:00\n",
            "\n",
            "[8784 rows x 2 columns]\n"
          ]
        }
      ]
    },
    {
      "cell_type": "code",
      "source": [
        "df['timestamp'] = df['DateTime'].astype(int) // 10**9\n",
        "print(df[['DateTime','timestamp']].head(3))"
      ],
      "metadata": {
        "colab": {
          "base_uri": "https://localhost:8080/"
        },
        "id": "GjGtXAlfTdU_",
        "outputId": "b24edc3b-39db-418e-b5c7-02467c968794"
      },
      "execution_count": 28,
      "outputs": [
        {
          "output_type": "stream",
          "name": "stdout",
          "text": [
            "             DateTime   timestamp\n",
            "0 2020-01-01 00:00:00  1577836800\n",
            "1 2020-01-01 01:00:00  1577840400\n",
            "2 2020-01-01 02:00:00  1577844000\n"
          ]
        }
      ]
    },
    {
      "cell_type": "markdown",
      "source": [
        "Ejercicio 05: Filtrado de Fechas\n"
      ],
      "metadata": {
        "id": "aawXTKv-XLWp"
      }
    },
    {
      "cell_type": "code",
      "source": [
        "df_filtrado = df[df['DateTime'] > '2020-11-01']\n",
        "print(df_filtrado)"
      ],
      "metadata": {
        "colab": {
          "base_uri": "https://localhost:8080/"
        },
        "id": "8KOus9x5VWmP",
        "outputId": "ab43c998-3ae3-415c-dc80-32384486be53"
      },
      "execution_count": 30,
      "outputs": [
        {
          "output_type": "stream",
          "name": "stdout",
          "text": [
            "                DateTime  Temperature  Humidity  Wind_Speed  Wind_Direction  \\\n",
            "7321 2020-11-01 01:00:00    13.620529        58    6.638072       130.60129   \n",
            "7322 2020-11-01 02:00:00    13.980529        40    6.618519       157.61987   \n",
            "7323 2020-11-01 03:00:00    13.010529        43    8.209263       164.74487   \n",
            "7324 2020-11-01 04:00:00    12.190529        51    7.568566       154.65382   \n",
            "7325 2020-11-01 05:00:00    12.510529        59    7.594208       148.57043   \n",
            "...                  ...          ...       ...         ...             ...   \n",
            "8779 2020-12-31 19:00:00     4.920528        72    4.553680       251.56506   \n",
            "8780 2020-12-31 20:00:00     4.990529        74    3.259939       186.34020   \n",
            "8781 2020-12-31 21:00:00     4.360529        84   10.587917       252.18112   \n",
            "8782 2020-12-31 22:00:00     3.820528        88    8.435069       219.80557   \n",
            "8783 2020-12-31 23:00:00     3.170529        89    6.792466       212.00539   \n",
            "\n",
            "      NO2_Location_A  NO2_Location_B  NO2_Location_C  year  month  day  hour  \\\n",
            "7321           17.50           23.88           44.07  2020     11    1     1   \n",
            "7322           13.38           18.92           35.80  2020     11    1     2   \n",
            "7323           11.95           13.95           30.15  2020     11    1     3   \n",
            "7324           10.10           14.35           31.45  2020     11    1     4   \n",
            "7325           10.30           14.42           32.55  2020     11    1     5   \n",
            "...              ...             ...             ...   ...    ...  ...   ...   \n",
            "8779           53.44           32.65           66.82  2020     12   31    19   \n",
            "8780           49.80           34.03           67.31  2020     12   31    20   \n",
            "8781           43.32           25.55           59.33  2020     12   31    21   \n",
            "8782           39.88           19.90           43.70  2020     12   31    22   \n",
            "8783           39.04           30.33           46.87  2020     12   31    23   \n",
            "\n",
            "                 NewDate   timestamp  \n",
            "7321 2020-11-11 08:15:00  1604192400  \n",
            "7322 2020-11-11 09:15:00  1604196000  \n",
            "7323 2020-11-11 10:15:00  1604199600  \n",
            "7324 2020-11-11 11:15:00  1604203200  \n",
            "7325 2020-11-11 12:15:00  1604206800  \n",
            "...                  ...         ...  \n",
            "8779 2021-01-11 02:15:00  1609441200  \n",
            "8780 2021-01-11 03:15:00  1609444800  \n",
            "8781 2021-01-11 04:15:00  1609448400  \n",
            "8782 2021-01-11 05:15:00  1609452000  \n",
            "8783 2021-01-11 06:15:00  1609455600  \n",
            "\n",
            "[1463 rows x 14 columns]\n"
          ]
        }
      ]
    },
    {
      "cell_type": "code",
      "source": [],
      "metadata": {
        "id": "N4bG_p7MXmqF"
      },
      "execution_count": null,
      "outputs": []
    }
  ]
}