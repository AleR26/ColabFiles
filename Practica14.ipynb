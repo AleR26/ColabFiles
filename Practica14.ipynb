{
  "nbformat": 4,
  "nbformat_minor": 0,
  "metadata": {
    "colab": {
      "provenance": [],
      "authorship_tag": "ABX9TyMn1o4gPEth7nuLjQc30ucT",
      "include_colab_link": true
    },
    "kernelspec": {
      "name": "python3",
      "display_name": "Python 3"
    },
    "language_info": {
      "name": "python"
    }
  },
  "cells": [
    {
      "cell_type": "markdown",
      "metadata": {
        "id": "view-in-github",
        "colab_type": "text"
      },
      "source": [
        "<a href=\"https://colab.research.google.com/github/AleR26/ColabFiles/blob/main/Practica14.ipynb\" target=\"_parent\"><img src=\"https://colab.research.google.com/assets/colab-badge.svg\" alt=\"Open In Colab\"/></a>"
      ]
    },
    {
      "cell_type": "markdown",
      "source": [
        "#Práctica #14: Limpieza y Transformación de Datos Categóricos"
      ],
      "metadata": {
        "id": "21ayuyzgnRk8"
      }
    },
    {
      "cell_type": "code",
      "execution_count": null,
      "metadata": {
        "colab": {
          "base_uri": "https://localhost:8080/"
        },
        "id": "1p19Vka3SCbI",
        "outputId": "9940dc3f-81f3-4dc8-b91c-b2a484c36910"
      },
      "outputs": [
        {
          "output_type": "stream",
          "name": "stdout",
          "text": [
            "Drive already mounted at /content/drive; to attempt to forcibly remount, call drive.mount(\"/content/drive\", force_remount=True).\n"
          ]
        }
      ],
      "source": [
        "from google.colab import drive\n",
        "drive.mount('/content/drive')"
      ]
    },
    {
      "cell_type": "code",
      "source": [
        "import pandas as pd\n",
        "\n",
        "df = pd.read_csv('/content/drive/MyDrive/ClassFiles/nls97.csv')\n",
        "\n"
      ],
      "metadata": {
        "id": "PVDromdGSGda"
      },
      "execution_count": 49,
      "outputs": []
    },
    {
      "cell_type": "markdown",
      "source": [
        "Ejercicio 01: Errores Tipográficos y Valores Inconsistentes: maritalstatus\n",
        "\n"
      ],
      "metadata": {
        "id": "yym-J_8QkBWU"
      }
    },
    {
      "cell_type": "code",
      "metadata": {
        "colab": {
          "base_uri": "https://localhost:8080/"
        },
        "id": "14a92941",
        "outputId": "cb12db1c-f72a-4005-d6e7-ea7481314e8f"
      },
      "source": [
        "print(\"Valores unicos\")\n",
        "print(df['maritalstatus'].unique())"
      ],
      "execution_count": 50,
      "outputs": [
        {
          "output_type": "stream",
          "name": "stdout",
          "text": [
            "Valores unicos\n",
            "['Married' 'Never-married' nan 'Divorced' 'Separated' 'Widowed']\n"
          ]
        }
      ]
    },
    {
      "cell_type": "code",
      "source": [
        "print(\"Frecuencia de cada valor unico\")\n",
        "print(df['maritalstatus'].value_counts())"
      ],
      "metadata": {
        "colab": {
          "base_uri": "https://localhost:8080/"
        },
        "id": "Q6yrZ7MpStUm",
        "outputId": "dba4896c-4c4d-4346-a137-0596c61b6735"
      },
      "execution_count": 51,
      "outputs": [
        {
          "output_type": "stream",
          "name": "stdout",
          "text": [
            "Frecuencia de cada valor unico\n",
            "maritalstatus\n",
            "Married          3066\n",
            "Never-married    2766\n",
            "Divorced          663\n",
            "Separated         154\n",
            "Widowed            23\n",
            "Name: count, dtype: int64\n"
          ]
        }
      ]
    },
    {
      "cell_type": "code",
      "source": [
        "df['maritalstatus'] = df['maritalstatus'].replace({'Never-married':'Single'})\n",
        "df['maritalstatus'].value_counts()"
      ],
      "metadata": {
        "id": "NiE1xmk4S5nE",
        "outputId": "0208fd36-281d-4107-da39-822895431efd",
        "colab": {
          "base_uri": "https://localhost:8080/",
          "height": 272
        }
      },
      "execution_count": 52,
      "outputs": [
        {
          "output_type": "execute_result",
          "data": {
            "text/plain": [
              "maritalstatus\n",
              "Married      3066\n",
              "Single       2766\n",
              "Divorced      663\n",
              "Separated     154\n",
              "Widowed        23\n",
              "Name: count, dtype: int64"
            ],
            "text/html": [
              "<div>\n",
              "<style scoped>\n",
              "    .dataframe tbody tr th:only-of-type {\n",
              "        vertical-align: middle;\n",
              "    }\n",
              "\n",
              "    .dataframe tbody tr th {\n",
              "        vertical-align: top;\n",
              "    }\n",
              "\n",
              "    .dataframe thead th {\n",
              "        text-align: right;\n",
              "    }\n",
              "</style>\n",
              "<table border=\"1\" class=\"dataframe\">\n",
              "  <thead>\n",
              "    <tr style=\"text-align: right;\">\n",
              "      <th></th>\n",
              "      <th>count</th>\n",
              "    </tr>\n",
              "    <tr>\n",
              "      <th>maritalstatus</th>\n",
              "      <th></th>\n",
              "    </tr>\n",
              "  </thead>\n",
              "  <tbody>\n",
              "    <tr>\n",
              "      <th>Married</th>\n",
              "      <td>3066</td>\n",
              "    </tr>\n",
              "    <tr>\n",
              "      <th>Single</th>\n",
              "      <td>2766</td>\n",
              "    </tr>\n",
              "    <tr>\n",
              "      <th>Divorced</th>\n",
              "      <td>663</td>\n",
              "    </tr>\n",
              "    <tr>\n",
              "      <th>Separated</th>\n",
              "      <td>154</td>\n",
              "    </tr>\n",
              "    <tr>\n",
              "      <th>Widowed</th>\n",
              "      <td>23</td>\n",
              "    </tr>\n",
              "  </tbody>\n",
              "</table>\n",
              "</div><br><label><b>dtype:</b> int64</label>"
            ]
          },
          "metadata": {},
          "execution_count": 52
        }
      ]
    },
    {
      "cell_type": "markdown",
      "source": [
        "Ejercicio 02: Errores Tipográficos y Valores Inconsistentes: highestdegree.\n",
        "\n"
      ],
      "metadata": {
        "id": "1_nQRUMIo9u3"
      }
    },
    {
      "cell_type": "code",
      "source": [
        "print('Valores unicos')\n",
        "print(df['highestdegree'].unique())"
      ],
      "metadata": {
        "id": "tpxASJq8o1Qe",
        "outputId": "feeb3596-8ea6-432f-ac1e-93d4ab9819c2",
        "colab": {
          "base_uri": "https://localhost:8080/"
        }
      },
      "execution_count": 53,
      "outputs": [
        {
          "output_type": "stream",
          "name": "stdout",
          "text": [
            "Valores unicos\n",
            "['2. High School' '0. None' '4. Bachelors' '3. Associates' '5. Masters'\n",
            " '1. GED' '7. Professional' '6. PhD' nan]\n"
          ]
        }
      ]
    },
    {
      "cell_type": "code",
      "source": [
        "print('Frecuencia de valores unicos')\n",
        "print(df['highestdegree'].value_counts())"
      ],
      "metadata": {
        "id": "fDHLhxHApIwg",
        "outputId": "020edb64-d28c-4df9-b391-3630f33f1bb0",
        "colab": {
          "base_uri": "https://localhost:8080/"
        }
      },
      "execution_count": 54,
      "outputs": [
        {
          "output_type": "stream",
          "name": "stdout",
          "text": [
            "Frecuencia de valores unicos\n",
            "highestdegree\n",
            "2. High School     3667\n",
            "4. Bachelors       1673\n",
            "1. GED             1146\n",
            "0. None             953\n",
            "3. Associates       737\n",
            "5. Masters          603\n",
            "7. Professional     120\n",
            "6. PhD               54\n",
            "Name: count, dtype: int64\n"
          ]
        }
      ]
    },
    {
      "cell_type": "code",
      "source": [
        "import re"
      ],
      "metadata": {
        "id": "oTNNTabWq5zA"
      },
      "execution_count": 55,
      "outputs": []
    },
    {
      "cell_type": "code",
      "source": [
        "df['highestdegree'] = df['highestdegree'].str.lower().str.replace(r'\\d+\\.' , '', regex=True)\n",
        "print(df['highestdegree'].value_counts())"
      ],
      "metadata": {
        "id": "9Bs5LZQSpmkt",
        "outputId": "9447c4c4-3c0a-4f32-8916-d12e74a09cec",
        "colab": {
          "base_uri": "https://localhost:8080/"
        }
      },
      "execution_count": 56,
      "outputs": [
        {
          "output_type": "stream",
          "name": "stdout",
          "text": [
            "highestdegree\n",
            "high school     3667\n",
            "bachelors       1673\n",
            "ged             1146\n",
            "none             953\n",
            "associates       737\n",
            "masters          603\n",
            "professional     120\n",
            "phd               54\n",
            "Name: count, dtype: int64\n"
          ]
        }
      ]
    },
    {
      "cell_type": "code",
      "source": [],
      "metadata": {
        "id": "QOB5gtBjq7DB"
      },
      "execution_count": null,
      "outputs": []
    }
  ]
}