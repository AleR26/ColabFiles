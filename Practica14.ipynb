{
  "nbformat": 4,
  "nbformat_minor": 0,
  "metadata": {
    "colab": {
      "provenance": [],
      "authorship_tag": "ABX9TyNtK6GbRiHcWkOZuAAhAdTj",
      "include_colab_link": true
    },
    "kernelspec": {
      "name": "python3",
      "display_name": "Python 3"
    },
    "language_info": {
      "name": "python"
    }
  },
  "cells": [
    {
      "cell_type": "markdown",
      "metadata": {
        "id": "view-in-github",
        "colab_type": "text"
      },
      "source": [
        "<a href=\"https://colab.research.google.com/github/AleR26/ColabFiles/blob/main/Practica14.ipynb\" target=\"_parent\"><img src=\"https://colab.research.google.com/assets/colab-badge.svg\" alt=\"Open In Colab\"/></a>"
      ]
    },
    {
      "cell_type": "markdown",
      "source": [
        "#Práctica #14: Limpieza y Transformación de Datos Categóricos"
      ],
      "metadata": {
        "id": "21ayuyzgnRk8"
      }
    },
    {
      "cell_type": "code",
      "execution_count": 2,
      "metadata": {
        "colab": {
          "base_uri": "https://localhost:8080/"
        },
        "id": "1p19Vka3SCbI",
        "outputId": "e04986a7-1a26-4210-c8d5-be98c4ab8607"
      },
      "outputs": [
        {
          "output_type": "stream",
          "name": "stdout",
          "text": [
            "Mounted at /content/drive\n"
          ]
        }
      ],
      "source": [
        "from google.colab import drive\n",
        "drive.mount('/content/drive')"
      ]
    },
    {
      "cell_type": "code",
      "source": [
        "import pandas as pd\n",
        "\n",
        "df = pd.read_csv('/content/drive/MyDrive/ClassFiles/nls97.csv')\n",
        "\n"
      ],
      "metadata": {
        "id": "PVDromdGSGda"
      },
      "execution_count": 3,
      "outputs": []
    },
    {
      "cell_type": "markdown",
      "source": [
        "Ejercicio 01: Errores Tipográficos y Valores Inconsistentes: maritalstatus\n",
        "\n"
      ],
      "metadata": {
        "id": "yym-J_8QkBWU"
      }
    },
    {
      "cell_type": "code",
      "metadata": {
        "colab": {
          "base_uri": "https://localhost:8080/"
        },
        "id": "14a92941",
        "outputId": "66536f3c-6f66-4e7e-a660-618b4e2c81a3"
      },
      "source": [
        "print(\"Valores unicos\")\n",
        "print(df['maritalstatus'].unique())"
      ],
      "execution_count": 4,
      "outputs": [
        {
          "output_type": "stream",
          "name": "stdout",
          "text": [
            "Valores unicos\n",
            "['Married' 'Never-married' nan 'Divorced' 'Separated' 'Widowed']\n"
          ]
        }
      ]
    },
    {
      "cell_type": "code",
      "source": [
        "print(\"Frecuencia de cada valor unico\")\n",
        "print(df['maritalstatus'].value_counts())"
      ],
      "metadata": {
        "colab": {
          "base_uri": "https://localhost:8080/"
        },
        "id": "Q6yrZ7MpStUm",
        "outputId": "907b6039-1c3b-4611-e987-18c7d1dd57fe"
      },
      "execution_count": 5,
      "outputs": [
        {
          "output_type": "stream",
          "name": "stdout",
          "text": [
            "Frecuencia de cada valor unico\n",
            "maritalstatus\n",
            "Married          3066\n",
            "Never-married    2766\n",
            "Divorced          663\n",
            "Separated         154\n",
            "Widowed            23\n",
            "Name: count, dtype: int64\n"
          ]
        }
      ]
    },
    {
      "cell_type": "code",
      "source": [
        "df['maritalstatus'] = df['maritalstatus'].replace({'Never-married':'Single'})\n",
        "df['maritalstatus'].value_counts()"
      ],
      "metadata": {
        "id": "NiE1xmk4S5nE",
        "outputId": "24f90075-4b6d-42db-a06d-c4c661982908",
        "colab": {
          "base_uri": "https://localhost:8080/",
          "height": 272
        }
      },
      "execution_count": 6,
      "outputs": [
        {
          "output_type": "execute_result",
          "data": {
            "text/plain": [
              "maritalstatus\n",
              "Married      3066\n",
              "Single       2766\n",
              "Divorced      663\n",
              "Separated     154\n",
              "Widowed        23\n",
              "Name: count, dtype: int64"
            ],
            "text/html": [
              "<div>\n",
              "<style scoped>\n",
              "    .dataframe tbody tr th:only-of-type {\n",
              "        vertical-align: middle;\n",
              "    }\n",
              "\n",
              "    .dataframe tbody tr th {\n",
              "        vertical-align: top;\n",
              "    }\n",
              "\n",
              "    .dataframe thead th {\n",
              "        text-align: right;\n",
              "    }\n",
              "</style>\n",
              "<table border=\"1\" class=\"dataframe\">\n",
              "  <thead>\n",
              "    <tr style=\"text-align: right;\">\n",
              "      <th></th>\n",
              "      <th>count</th>\n",
              "    </tr>\n",
              "    <tr>\n",
              "      <th>maritalstatus</th>\n",
              "      <th></th>\n",
              "    </tr>\n",
              "  </thead>\n",
              "  <tbody>\n",
              "    <tr>\n",
              "      <th>Married</th>\n",
              "      <td>3066</td>\n",
              "    </tr>\n",
              "    <tr>\n",
              "      <th>Single</th>\n",
              "      <td>2766</td>\n",
              "    </tr>\n",
              "    <tr>\n",
              "      <th>Divorced</th>\n",
              "      <td>663</td>\n",
              "    </tr>\n",
              "    <tr>\n",
              "      <th>Separated</th>\n",
              "      <td>154</td>\n",
              "    </tr>\n",
              "    <tr>\n",
              "      <th>Widowed</th>\n",
              "      <td>23</td>\n",
              "    </tr>\n",
              "  </tbody>\n",
              "</table>\n",
              "</div><br><label><b>dtype:</b> int64</label>"
            ]
          },
          "metadata": {},
          "execution_count": 6
        }
      ]
    },
    {
      "cell_type": "markdown",
      "source": [
        "Ejercicio 02: Errores Tipográficos y Valores Inconsistentes: highestdegree.\n",
        "\n"
      ],
      "metadata": {
        "id": "1_nQRUMIo9u3"
      }
    },
    {
      "cell_type": "code",
      "source": [
        "print('Valores unicos')\n",
        "print(df['highestdegree'].unique())"
      ],
      "metadata": {
        "id": "tpxASJq8o1Qe",
        "outputId": "12c7ca9e-3a92-471c-be00-a576c745862a",
        "colab": {
          "base_uri": "https://localhost:8080/"
        }
      },
      "execution_count": 7,
      "outputs": [
        {
          "output_type": "stream",
          "name": "stdout",
          "text": [
            "Valores unicos\n",
            "['2. High School' '0. None' '4. Bachelors' '3. Associates' '5. Masters'\n",
            " '1. GED' '7. Professional' '6. PhD' nan]\n"
          ]
        }
      ]
    },
    {
      "cell_type": "code",
      "source": [
        "print('Frecuencia de valores unicos')\n",
        "print(df['highestdegree'].value_counts())"
      ],
      "metadata": {
        "id": "fDHLhxHApIwg",
        "outputId": "f50370c0-924a-436f-85a5-999c3d93d6fb",
        "colab": {
          "base_uri": "https://localhost:8080/"
        }
      },
      "execution_count": 8,
      "outputs": [
        {
          "output_type": "stream",
          "name": "stdout",
          "text": [
            "Frecuencia de valores unicos\n",
            "highestdegree\n",
            "2. High School     3667\n",
            "4. Bachelors       1673\n",
            "1. GED             1146\n",
            "0. None             953\n",
            "3. Associates       737\n",
            "5. Masters          603\n",
            "7. Professional     120\n",
            "6. PhD               54\n",
            "Name: count, dtype: int64\n"
          ]
        }
      ]
    },
    {
      "cell_type": "code",
      "source": [
        "import re"
      ],
      "metadata": {
        "id": "oTNNTabWq5zA"
      },
      "execution_count": 9,
      "outputs": []
    },
    {
      "cell_type": "code",
      "source": [
        "df['highestdegree'] = df['highestdegree'].str.lower().str.replace(r'\\d+\\.' , '', regex=True)\n",
        "print(df['highestdegree'].value_counts())"
      ],
      "metadata": {
        "id": "9Bs5LZQSpmkt",
        "outputId": "4776648e-63cc-4576-fa9d-f2698fa4b060",
        "colab": {
          "base_uri": "https://localhost:8080/"
        }
      },
      "execution_count": 10,
      "outputs": [
        {
          "output_type": "stream",
          "name": "stdout",
          "text": [
            "highestdegree\n",
            "high school     3667\n",
            "bachelors       1673\n",
            "ged             1146\n",
            "none             953\n",
            "associates       737\n",
            "masters          603\n",
            "professional     120\n",
            "phd               54\n",
            "Name: count, dtype: int64\n"
          ]
        }
      ]
    },
    {
      "cell_type": "markdown",
      "source": [
        "Ejercicio 03: Alta Cardinalidad - Frecuencias Bajas\n"
      ],
      "metadata": {
        "id": "BH0uI_uV1d0M"
      }
    },
    {
      "cell_type": "code",
      "source": [
        "df['marital_grouped'] = df['maritalstatus'].replace({'Widowed':'Single/No Partner', 'Single': 'Single/No Partner'})\n",
        "print('Valores unicos')\n",
        "print(df['marital_grouped'].unique())"
      ],
      "metadata": {
        "id": "QOB5gtBjq7DB",
        "outputId": "ed7997d9-61ac-42af-b6d7-ebc4b98677c7",
        "colab": {
          "base_uri": "https://localhost:8080/"
        }
      },
      "execution_count": 14,
      "outputs": [
        {
          "output_type": "stream",
          "name": "stdout",
          "text": [
            "Valores unicos\n",
            "['Married' 'Single/No Partner' nan 'Divorced' 'Separated']\n"
          ]
        }
      ]
    },
    {
      "cell_type": "code",
      "source": [
        "print(\"Contar valores unicos\")\n",
        "print(df['marital_grouped'].value_counts())"
      ],
      "metadata": {
        "id": "EpTzPNKUKSl6",
        "outputId": "aee849f4-abd6-42d6-c0fa-a899dd29a7fb",
        "colab": {
          "base_uri": "https://localhost:8080/"
        }
      },
      "execution_count": 15,
      "outputs": [
        {
          "output_type": "stream",
          "name": "stdout",
          "text": [
            "Contar valores unicos\n",
            "marital_grouped\n",
            "Married              3066\n",
            "Single/No Partner    2789\n",
            "Divorced              663\n",
            "Separated             154\n",
            "Name: count, dtype: int64\n"
          ]
        }
      ]
    },
    {
      "cell_type": "markdown",
      "source": [
        "Ejercicio 04: Tipos de Datos\n",
        "\n",
        "Imprime el tipo de datos de la columna gender\n",
        "Imprime la cantidad de bytes de dicha columna\n",
        "Si la columna es de tipo object, modifica a category.\n",
        "En caso de haber realizado la modificación del tipo de datos, imprime la cantidad de bytes que ocupa dicha columna con el nuevo tipo de datos"
      ],
      "metadata": {
        "id": "M6YfxTLjLC3z"
      }
    },
    {
      "cell_type": "code",
      "source": [
        "print('Tipo de datos de la columna gender: ')\n",
        "print(df['gender'].info())\n",
        "print('\\n')\n",
        "print(f\"Bytes de la columna gender: {df['gender'].memory_usage(deep=True)}\")"
      ],
      "metadata": {
        "id": "BdzBBSX2Ks3s",
        "outputId": "70b31636-a555-4679-d7e1-84ca46748233",
        "colab": {
          "base_uri": "https://localhost:8080/"
        }
      },
      "execution_count": 25,
      "outputs": [
        {
          "output_type": "stream",
          "name": "stdout",
          "text": [
            "Tipo de datos de la columna gender: \n",
            "<class 'pandas.core.series.Series'>\n",
            "RangeIndex: 8984 entries, 0 to 8983\n",
            "Series name: gender\n",
            "Non-Null Count  Dtype \n",
            "--------------  ----- \n",
            "8984 non-null   object\n",
            "dtypes: object(1)\n",
            "memory usage: 70.3+ KB\n",
            "None\n",
            "\n",
            "\n",
            "Bytes de la columna gender: 485054\n"
          ]
        }
      ]
    },
    {
      "cell_type": "code",
      "source": [
        "df['gender'] = df['gender'].astype('category')\n",
        "print(f\"Bytes de la columna gender: {df['gender'].memory_usage(deep=True)}\")"
      ],
      "metadata": {
        "id": "KetvgKhpME7S",
        "outputId": "ed165cab-60f8-41d1-a3bf-d718e7b58657",
        "colab": {
          "base_uri": "https://localhost:8080/"
        }
      },
      "execution_count": 26,
      "outputs": [
        {
          "output_type": "stream",
          "name": "stdout",
          "text": [
            "Bytes de la columna gender: 9332\n"
          ]
        }
      ]
    },
    {
      "cell_type": "code",
      "source": [],
      "metadata": {
        "id": "tIb3AugINSQ5"
      },
      "execution_count": null,
      "outputs": []
    }
  ]
}