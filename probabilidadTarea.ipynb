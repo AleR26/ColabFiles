{
  "nbformat": 4,
  "nbformat_minor": 0,
  "metadata": {
    "colab": {
      "provenance": [],
      "authorship_tag": "ABX9TyNjH5qaVghqtNjf5k4DRZWw",
      "include_colab_link": true
    },
    "kernelspec": {
      "name": "python3",
      "display_name": "Python 3"
    },
    "language_info": {
      "name": "python"
    }
  },
  "cells": [
    {
      "cell_type": "markdown",
      "metadata": {
        "id": "view-in-github",
        "colab_type": "text"
      },
      "source": [
        "<a href=\"https://colab.research.google.com/github/AleR26/ColabFiles/blob/main/probabilidadTarea.ipynb\" target=\"_parent\"><img src=\"https://colab.research.google.com/assets/colab-badge.svg\" alt=\"Open In Colab\"/></a>"
      ]
    },
    {
      "cell_type": "code",
      "execution_count": 11,
      "metadata": {
        "colab": {
          "base_uri": "https://localhost:8080/"
        },
        "id": "pXjCxAGVaO5c",
        "outputId": "dd649f2c-2db3-41ac-a7e9-6670ac1dbe8a"
      },
      "outputs": [
        {
          "output_type": "stream",
          "name": "stdout",
          "text": [
            "P(X >= 8) = 1 - P(X <= 7) = 0.000003\n"
          ]
        }
      ],
      "source": [
        "from scipy.stats import binom\n",
        "\n",
        "n= 12\n",
        "p = 0.10\n",
        "k_min = 8\n",
        "\n",
        "probabiidad_hasta_7 = binom.cdf(k_min-1, n, p)\n",
        "probabilidad_acum = 1 - probabiidad_hasta_7\n",
        "\n",
        "print(f\"P(X >= 8) = 1 - P(X <= 7) = {probabilidad_acum:.6f}\")"
      ]
    },
    {
      "cell_type": "code",
      "source": [
        "prob_alguno = binom.pmf(0, n, p)\n",
        "prob_al = 1 - prob_alguno\n",
        "\n",
        "print(f\"P(X = 1) = {prob_al:.4f}\")"
      ],
      "metadata": {
        "colab": {
          "base_uri": "https://localhost:8080/"
        },
        "id": "hVPyFMMIaoGA",
        "outputId": "b8666bb4-aca9-4698-e5b2-2f611cee7663"
      },
      "execution_count": 10,
      "outputs": [
        {
          "output_type": "stream",
          "name": "stdout",
          "text": [
            "P(X = 1) = 0.7176\n"
          ]
        }
      ]
    },
    {
      "cell_type": "code",
      "source": [
        "# Media (Valor esperado): n * p\n",
        "media = binom.mean(n, p)\n",
        "\n",
        "# Desviación Estándar: sqrt(n * p * q)\n",
        "desviacion_estandar = binom.std(n, p)\n",
        "\n",
        "print(f\"Media = {media:.4f}\")\n",
        "print(f\"Desviación Estándar = {desviacion_estandar:.4f}\")\n",
        "# Salida: Media (Esperanza) = 2.5\n",
        "# Salida: Desviación Estándar = 1.1180"
      ],
      "metadata": {
        "colab": {
          "base_uri": "https://localhost:8080/"
        },
        "id": "jiWu8epviMHs",
        "outputId": "a88bc49a-14fb-472b-e4a5-d665cc03c330"
      },
      "execution_count": 14,
      "outputs": [
        {
          "output_type": "stream",
          "name": "stdout",
          "text": [
            "Media = 1.2000\n",
            "Desviación Estándar = 1.0392\n"
          ]
        }
      ]
    },
    {
      "cell_type": "code",
      "source": [
        "n= 20\n",
        "p = 0.25\n",
        "k_min = 0\n",
        "k_10 = 10\n",
        "k_5 = 5\n",
        "k_8 = 8\n",
        "k_3 = 3\n",
        "\n",
        "probabiidad_todas_mal = binom.pmf(k_min, n, p)\n",
        "print(f\"P(X = 0) = {probabiidad_todas_mal:.6f}\")\n",
        "\n",
        "probabiidad_hasta_9 = binom.cdf(k_10-1, n, p)\n",
        "probabilidad_10 = 1 - probabiidad_hasta_9\n",
        "print(f\"P(X >= 10) = {probabilidad_10:.6f}\")\n",
        "\n",
        "probabilidad_hasta_5 = binom.cdf(k_5-1,n,p)\n",
        "probabilidad_hasta_8 = binom.cdf(k_8-1,n,p)\n",
        "probabilidad_entre = probabilidad_hasta_8 - probabilidad_hasta_5\n",
        "print(f'P(5 <= X <= 8) = {probabilidad_entre:.4f}')\n",
        "\n",
        "probabilidad_hasta_3 = binom.cdf(k_3-1, n, p)\n",
        "print(f'P(X < 3)= {probabilidad_hasta_3:.4f}')"
      ],
      "metadata": {
        "colab": {
          "base_uri": "https://localhost:8080/"
        },
        "id": "tL9eEk12iWf8",
        "outputId": "24b5c325-c2f8-456a-c0b3-0572f18df2a4"
      },
      "execution_count": 25,
      "outputs": [
        {
          "output_type": "stream",
          "name": "stdout",
          "text": [
            "P(X = 0) = 0.003171\n",
            "P(X >= 10) = 0.013864\n",
            "P(5 <= X <= 8) = 0.4833\n",
            "P(X < 3)= 0.0913\n"
          ]
        }
      ]
    },
    {
      "cell_type": "code",
      "source": [
        "from scipy.stats import hypergeom\n",
        "\n",
        "N_total = 15  # Población total (M en SciPy)\n",
        "K_hombres = 5   # Total de hombres (n en SciPy)\n",
        "n_comite = 5    # Tamaño del comité (N en SciPy)"
      ],
      "metadata": {
        "id": "LZJjmJddn3Uj"
      },
      "execution_count": 26,
      "outputs": []
    },
    {
      "cell_type": "code",
      "source": [
        "# k = número de hombres deseados\n",
        "k_hombres = 2\n",
        "\n",
        "prob_2h_3m = hypergeom.pmf(k_hombres, N_total, K_hombres, n_comite)\n",
        "\n",
        "print(f\"La probabilidad de 2 hombres y 3 mujeres es: {prob_2h_3m:.4f}\")\n",
        "# Salida: La probabilidad de 2 hombres y 3 mujeres es: 0.3996"
      ],
      "metadata": {
        "colab": {
          "base_uri": "https://localhost:8080/"
        },
        "id": "V2luMmC5tyjF",
        "outputId": "981f5612-0348-489f-d7dc-b8276ade2f77"
      },
      "execution_count": 27,
      "outputs": [
        {
          "output_type": "stream",
          "name": "stdout",
          "text": [
            "La probabilidad de 2 hombres y 3 mujeres es: 0.3996\n"
          ]
        }
      ]
    },
    {
      "cell_type": "code",
      "source": [
        "# k = número de hombres deseados\n",
        "k_hombres_solo_mujeres = 0\n",
        "\n",
        "prob_solo_mujeres = hypergeom.pmf(k_hombres_solo_mujeres, N_total, K_hombres, n_comite)\n",
        "\n",
        "print(f\"La probabilidad de solo mujeres (0 hombres) es: {prob_solo_mujeres:.4f}\")\n",
        "# Salida: La probabilidad de solo mujeres (0 hombres) es: 0.0839"
      ],
      "metadata": {
        "colab": {
          "base_uri": "https://localhost:8080/"
        },
        "id": "KgU7YN-pt0N9",
        "outputId": "85dcdcda-24d2-41cf-9d0c-dc7ef1112e6a"
      },
      "execution_count": 28,
      "outputs": [
        {
          "output_type": "stream",
          "name": "stdout",
          "text": [
            "La probabilidad de solo mujeres (0 hombres) es: 0.0839\n"
          ]
        }
      ]
    },
    {
      "cell_type": "code",
      "source": [],
      "metadata": {
        "id": "SbSTZi5St2es"
      },
      "execution_count": null,
      "outputs": []
    }
  ]
}