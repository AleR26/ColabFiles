{
  "nbformat": 4,
  "nbformat_minor": 0,
  "metadata": {
    "colab": {
      "provenance": [],
      "authorship_tag": "ABX9TyNUZOljz2LJHo+JHm+WHh15",
      "include_colab_link": true
    },
    "kernelspec": {
      "name": "python3",
      "display_name": "Python 3"
    },
    "language_info": {
      "name": "python"
    }
  },
  "cells": [
    {
      "cell_type": "markdown",
      "metadata": {
        "id": "view-in-github",
        "colab_type": "text"
      },
      "source": [
        "<a href=\"https://colab.research.google.com/github/AleR26/ColabFiles/blob/main/probabilidadTarea.ipynb\" target=\"_parent\"><img src=\"https://colab.research.google.com/assets/colab-badge.svg\" alt=\"Open In Colab\"/></a>"
      ]
    },
    {
      "cell_type": "markdown",
      "source": [
        "#Ejercicios de probabilidad y simulación de distribuciones\n",
        " ### MIAAD Noviembre 2025\n",
        "\n",
        "---\n",
        "\n"
      ],
      "metadata": {
        "id": "JmYVJdkC-loH"
      }
    },
    {
      "cell_type": "markdown",
      "source": [
        "Ejercicios. Resuelva los siguientes ejercicios. Además de la respuestas correctas, incluya el planteamiento y procedimiento seguido.\n",
        " 1. El 10% de la población en Ciudad Juárez ve un concurso que hay en\n",
        " el Canal 44. Desde el concurso se llama por teléfono a 12 personas de\n",
        " la ciudad elegidas al azar. Calcular la probabilidad de que, entre las 12\n",
        " personas, estuvieran viendo el programa:\n",
        " * Más de 8 personas.\n",
        " * Algunas de las 12 personas.\n",
        " * Cuál es la media y la desviación típica"
      ],
      "metadata": {
        "id": "4N8MG7K4-xWN"
      }
    },
    {
      "cell_type": "code",
      "execution_count": 1,
      "metadata": {
        "colab": {
          "base_uri": "https://localhost:8080/"
        },
        "id": "pXjCxAGVaO5c",
        "outputId": "52513fc3-65ba-4a54-f5e5-a94f964e4f78"
      },
      "outputs": [
        {
          "output_type": "stream",
          "name": "stdout",
          "text": [
            "Probabilidad de que estuvieran viendo el programa más de 8 personas \n",
            "\n",
            "P(X >= 8) = 1 - P(X <= 7) = 0.000003\n"
          ]
        }
      ],
      "source": [
        "from scipy.stats import binom\n",
        "\n",
        "n= 12\n",
        "p = 0.10\n",
        "k_min = 8\n",
        "\n",
        "probabiidad_hasta_7 = binom.cdf(k_min-1, n, p)\n",
        "probabilidad_acum = 1 - probabiidad_hasta_7\n",
        "\n",
        "print(\"Probabilidad de que estuvieran viendo el programa más de 8 personas \\n\")\n",
        "print(f\"P(X >= 8) = 1 - P(X <= 7) = {probabilidad_acum:.6f}\")"
      ]
    },
    {
      "cell_type": "code",
      "source": [
        "prob_alguno = binom.pmf(0, n, p)\n",
        "prob_al = 1 - prob_alguno\n",
        "\n",
        "print(\"Probabilidad de que estuvieran viendo el programa algunas de las 12 personas \\n\")\n",
        "print(f\"P(X = 1) = {prob_al:.4f}\")"
      ],
      "metadata": {
        "colab": {
          "base_uri": "https://localhost:8080/"
        },
        "id": "hVPyFMMIaoGA",
        "outputId": "b0c2ef01-c076-4734-c948-8daeb55894f5"
      },
      "execution_count": 2,
      "outputs": [
        {
          "output_type": "stream",
          "name": "stdout",
          "text": [
            "Probabilidad de que estuvieran viendo el programa algunas de las 12 personas \n",
            "\n",
            "P(X = 1) = 0.7176\n"
          ]
        }
      ]
    },
    {
      "cell_type": "code",
      "source": [
        "# Media (Valor esperado): n * p\n",
        "media = binom.mean(n, p)\n",
        "\n",
        "# Desviación Estándar: sqrt(n * p * q)\n",
        "desviacion_estandar = binom.std(n, p)\n",
        "\n",
        "print(f\"Media = {media:.4f}\")\n",
        "print(f\"Desviación Estándar = {desviacion_estandar:.4f}\")"
      ],
      "metadata": {
        "colab": {
          "base_uri": "https://localhost:8080/"
        },
        "id": "jiWu8epviMHs",
        "outputId": "fd2b2e4f-6d43-4133-c895-f162c320060f"
      },
      "execution_count": 3,
      "outputs": [
        {
          "output_type": "stream",
          "name": "stdout",
          "text": [
            "Media = 1.2000\n",
            "Desviación Estándar = 1.0392\n"
          ]
        }
      ]
    },
    {
      "cell_type": "markdown",
      "source": [
        " 2. Los aspirantes a la MIAAD de UACJ responden un cuestionario de 20\n",
        " preguntas. Cada pregunta tiene cuatro posibles respuestas, de las que sólo\n",
        " una es correcta. Suponga que los aspirantes tienen la misma probabilidad\n",
        " de responder. Se pide hallar las probabilidades para el aspirante:\n",
        " * Conteste todas las preguntas mal.\n",
        " * Conteste al menos 10 preguntas bien.\n",
        " * Conteste entre 5 y 8 preguntas bien.\n",
        " * Conteste menos de tres preguntas bien"
      ],
      "metadata": {
        "id": "Emk3474f_6UH"
      }
    },
    {
      "cell_type": "code",
      "source": [
        "n= 20\n",
        "p = 0.25\n",
        "k_min = 0\n",
        "k_10 = 10\n",
        "k_5 = 5\n",
        "k_8 = 8\n",
        "k_3 = 3\n",
        "\n",
        "probabiidad_todas_mal = binom.pmf(k_min, n, p)\n",
        "print(\"Conteste todas las preguntas mal\")\n",
        "print(f\"P(X = 0) = {probabiidad_todas_mal:.6f}\")\n",
        "\n",
        "probabiidad_hasta_9 = binom.cdf(k_10-1, n, p)\n",
        "probabilidad_10 = 1 - probabiidad_hasta_9\n",
        "print(\"Conteste al menos 10 preguntas bien\")\n",
        "print(f\"P(X >= 10) = {probabilidad_10:.6f}\")\n",
        "\n",
        "probabilidad_hasta_5 = binom.cdf(k_5-1,n,p)\n",
        "probabilidad_hasta_8 = binom.cdf(k_8-1,n,p)\n",
        "probabilidad_entre = probabilidad_hasta_8 - probabilidad_hasta_5\n",
        "print(\"Conteste entre 5 y 8 preguntas bien\")\n",
        "print(f'P(5 <= X <= 8) = {probabilidad_entre:.4f}')\n",
        "\n",
        "probabilidad_hasta_3 = binom.cdf(k_3-1, n, p)\n",
        "print(\"Conteste menos de tres preguntas bien\")\n",
        "print(f'P(X < 3)= {probabilidad_hasta_3:.4f}')"
      ],
      "metadata": {
        "colab": {
          "base_uri": "https://localhost:8080/"
        },
        "id": "tL9eEk12iWf8",
        "outputId": "5da1227f-24a7-42e5-fa01-dfcc0ca79db5"
      },
      "execution_count": 7,
      "outputs": [
        {
          "output_type": "stream",
          "name": "stdout",
          "text": [
            "Conteste todas las preguntas mal\n",
            "P(X = 0) = 0.003171\n",
            "Conteste al menos 10 preguntas bien\n",
            "P(X >= 10) = 0.013864\n",
            "Conteste entre 5 y 8 preguntas bien\n",
            "P(5 <= X <= 8) = 0.4833\n",
            "Conteste menos de tres preguntas bien\n",
            "P(X < 3)= 0.0913\n"
          ]
        }
      ]
    },
    {
      "cell_type": "markdown",
      "source": [
        " 3. Uncomité de 5 personas debe ser seleccionado de manera aleatoria a partir\n",
        " de un grupo de 5 hombres y 10 mujeres.\n",
        " * Halle la probabilidad que el comité esté compuesto por 2 hombres y\n",
        " 3 mujeres.\n",
        " * Halle la probabilidad que el comité esté compuesto sólo por mujeres"
      ],
      "metadata": {
        "id": "NgQfr5vPAScb"
      }
    },
    {
      "cell_type": "code",
      "source": [
        "from scipy.stats import hypergeom\n",
        "\n",
        "N_total = 15  # Población total\n",
        "K_hombres = 5   # Total de hombres\n",
        "n_comite = 5    # Tamaño del comité"
      ],
      "metadata": {
        "id": "LZJjmJddn3Uj"
      },
      "execution_count": 8,
      "outputs": []
    },
    {
      "cell_type": "code",
      "source": [
        "k_hombres = 2\n",
        "\n",
        "prob_2h_3m = hypergeom.pmf(k_hombres, N_total, K_hombres, n_comite)\n",
        "\n",
        "print(f\"La probabilidad de 2 hombres y 3 mujeres es: {prob_2h_3m:.4f}\")"
      ],
      "metadata": {
        "colab": {
          "base_uri": "https://localhost:8080/"
        },
        "id": "V2luMmC5tyjF",
        "outputId": "12fd4b6e-f49a-4bc2-e212-9342d2072c3f"
      },
      "execution_count": 9,
      "outputs": [
        {
          "output_type": "stream",
          "name": "stdout",
          "text": [
            "La probabilidad de 2 hombres y 3 mujeres es: 0.3996\n"
          ]
        }
      ]
    },
    {
      "cell_type": "code",
      "source": [
        "# k = número de hombres deseados\n",
        "k_hombres_solo_mujeres = 0\n",
        "\n",
        "prob_solo_mujeres = hypergeom.pmf(k_hombres_solo_mujeres, N_total, K_hombres, n_comite)\n",
        "\n",
        "print(f\"La probabilidad de solo mujeres (0 hombres) es: {prob_solo_mujeres:.4f}\")"
      ],
      "metadata": {
        "colab": {
          "base_uri": "https://localhost:8080/"
        },
        "id": "KgU7YN-pt0N9",
        "outputId": "4c76b5df-693b-4e0b-d2ec-7ee24fe0db21"
      },
      "execution_count": 10,
      "outputs": [
        {
          "output_type": "stream",
          "name": "stdout",
          "text": [
            "La probabilidad de solo mujeres (0 hombres) es: 0.0839\n"
          ]
        }
      ]
    },
    {
      "cell_type": "markdown",
      "source": [
        " 5. Un experimento consiste en lanzar dos dados y observar la suma de los\n",
        " dos. Halle la probabilidad que:\n",
        " * La suma sea 7 y,\n",
        " * La probabilidad que la suma sea mayor que 10.\n",
        "\n",
        "\n",
        " Compruebe los resultados teóricos obtenidos utilizando un programa de\n",
        " que simule ambos ejercicios. Repita el problema un número suficientemen\n",
        "te grande de veces y determine con qué precisión el resultado teórico puede\n",
        " ser corroborado experimentalmente"
      ],
      "metadata": {
        "id": "JMRTfzTrAv2n"
      }
    },
    {
      "cell_type": "code",
      "metadata": {
        "colab": {
          "base_uri": "https://localhost:8080/"
        },
        "id": "fcd66524",
        "outputId": "7a00ce4d-36f3-4a4f-b211-1fd5c429d0f4"
      },
      "source": [
        "total = 6 * 6\n",
        "\n",
        "sum_7 = [(1, 6), (2, 5), (3, 4), (4, 3), (5, 2), (6, 1)]\n",
        "num_sum_7 = len(sum_7)\n",
        "\n",
        "sum_gt_10 = [(5, 6), (6, 5), (6, 6)]\n",
        "num_sum_gt_10 = len(sum_gt_10)\n",
        "\n",
        "theoretical_prob_sum_7 = num_sum_7 / total\n",
        "\n",
        "theoretical_prob_sum_gt_10 = num_sum_gt_10 / total\n",
        "\n",
        "print(f\"Probabilidad de que la suma sea 7: {theoretical_prob_sum_7:.4f}\")\n",
        "print(f\"Probabilidad de que la suma sea mayor que 10: {theoretical_prob_sum_gt_10:.4f}\")"
      ],
      "execution_count": 16,
      "outputs": [
        {
          "output_type": "stream",
          "name": "stdout",
          "text": [
            "Probabilidad de que la suma sea 7: 0.1667\n",
            "Probabilidad de que la suma sea mayor que 10: 0.0833\n"
          ]
        }
      ]
    },
    {
      "cell_type": "code",
      "metadata": {
        "colab": {
          "base_uri": "https://localhost:8080/"
        },
        "id": "2dca06e2",
        "outputId": "2f6872db-377b-4ef4-bc9c-23b6221bbd02"
      },
      "source": [
        "import numpy as np\n",
        "\n",
        "num_simulations = 100000\n",
        "\n",
        "dado1 = np.random.randint(1, 7, size=num_simulations)\n",
        "dado2 = np.random.randint(1, 7, size=num_simulations)\n",
        "\n",
        "sum_de_dados = dado1 + dado2\n",
        "sum_de_dados"
      ],
      "execution_count": 21,
      "outputs": [
        {
          "output_type": "execute_result",
          "data": {
            "text/plain": [
              "array([ 7,  9,  8, ...,  7, 10,  4])"
            ]
          },
          "metadata": {},
          "execution_count": 21
        }
      ]
    },
    {
      "cell_type": "code",
      "metadata": {
        "colab": {
          "base_uri": "https://localhost:8080/"
        },
        "id": "aa95c56e",
        "outputId": "080c20f5-50bd-412d-ef0a-caac3fc2fe2d"
      },
      "source": [
        "count_sum_7 = np.sum(sum_de_dados == 7)\n",
        "count_sum_gt_10 = np.sum(sum_de_dados > 10)\n",
        "\n",
        "experimental_prob_sum_7 = count_sum_7 / num_simulations\n",
        "experimental_prob_sum_gt_10 = count_sum_gt_10 / num_simulations\n",
        "\n",
        "print(f\"Probabilidad experimental de la suma de 7: {experimental_prob_sum_7:.4f}\")\n",
        "print(f\"Probabilidad experimental de la suma mayor de 10: {experimental_prob_sum_gt_10:.4f}\")"
      ],
      "execution_count": 22,
      "outputs": [
        {
          "output_type": "stream",
          "name": "stdout",
          "text": [
            "Experimental probability of sum of 7: 0.1644\n",
            "Experimental probability of sum greater than 10: 0.0843\n"
          ]
        }
      ]
    },
    {
      "cell_type": "code",
      "metadata": {
        "colab": {
          "base_uri": "https://localhost:8080/"
        },
        "id": "1e1d90a7",
        "outputId": "3abe2076-0cdc-452a-9f85-226820a61131"
      },
      "source": [
        "print(f\"Probabilidad de que la suma sea 7: {theoretical_prob_sum_7:.4f}\")\n",
        "print(f\"robabilidad experimental de la suma de 7: {experimental_prob_sum_7:.4f}\")\n",
        "print(f\"Probabilidad de que la suma sea mayor que 10: {theoretical_prob_sum_gt_10:.4f}\")\n",
        "print(f\"Probabilidad experimental de la suma mayor de 10: {experimental_prob_sum_gt_10:.4f}\")\n"
      ],
      "execution_count": 24,
      "outputs": [
        {
          "output_type": "stream",
          "name": "stdout",
          "text": [
            "Probabilidad de que la suma sea 7: 0.1667\n",
            "robabilidad experimental de la suma de 7: 0.1644\n",
            "Probabilidad de que la suma sea mayor que 10: 0.0833\n",
            "Probabilidad experimental de la suma mayor de 10: 0.0843\n"
          ]
        }
      ]
    },
    {
      "cell_type": "code",
      "source": [],
      "metadata": {
        "id": "hzPnLg-uD1P9"
      },
      "execution_count": null,
      "outputs": []
    }
  ]
}