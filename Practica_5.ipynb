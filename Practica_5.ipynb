{
  "nbformat": 4,
  "nbformat_minor": 0,
  "metadata": {
    "colab": {
      "provenance": [],
      "authorship_tag": "ABX9TyPzjffMf6zUQwaejU9NEJ3E",
      "include_colab_link": true
    },
    "kernelspec": {
      "name": "python3",
      "display_name": "Python 3"
    },
    "language_info": {
      "name": "python"
    }
  },
  "cells": [
    {
      "cell_type": "markdown",
      "metadata": {
        "id": "view-in-github",
        "colab_type": "text"
      },
      "source": [
        "<a href=\"https://colab.research.google.com/github/AleR26/ColabFiles/blob/main/Practica_6.ipynb\" target=\"_parent\"><img src=\"https://colab.research.google.com/assets/colab-badge.svg\" alt=\"Open In Colab\"/></a>"
      ]
    },
    {
      "cell_type": "markdown",
      "source": [
        "#Practica #5. Uso de máscaras booleanas"
      ],
      "metadata": {
        "id": "KTMKe2eGZnKC"
      }
    },
    {
      "cell_type": "code",
      "source": [
        "import numpy as np\n",
        "\n",
        "arr = np.random.randint(1,50,15)\n",
        "print(\"Original:\", arr)\n",
        "print(\"Elementos mayores que 25:\", arr[arr > 25])\n",
        "print(\"Total de elementos mayores que 25:\", len(arr[arr > 25]))"
      ],
      "metadata": {
        "id": "Q97YBDuPUsuU",
        "outputId": "7dc6ffce-48e8-4e07-d993-3fabc6c08961",
        "colab": {
          "base_uri": "https://localhost:8080/"
        }
      },
      "execution_count": 8,
      "outputs": [
        {
          "output_type": "stream",
          "name": "stdout",
          "text": [
            "Original: [31 26 40 44 46 35 47 13 46 48 18 47 44 32 26]\n",
            "Elementos mayores que 25: [31 26 40 44 46 35 47 46 48 47 44 32 26]\n",
            "Total de elementos mayores que 25: 13\n"
          ]
        }
      ]
    },
    {
      "cell_type": "code",
      "source": [],
      "metadata": {
        "id": "CdympSLGVQM_"
      },
      "execution_count": null,
      "outputs": []
    }
  ]
}
