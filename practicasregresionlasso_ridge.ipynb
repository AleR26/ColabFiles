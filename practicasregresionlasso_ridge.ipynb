{
  "nbformat": 4,
  "nbformat_minor": 0,
  "metadata": {
    "colab": {
      "provenance": [],
      "include_colab_link": true
    },
    "kernelspec": {
      "name": "python3",
      "display_name": "Python 3"
    },
    "language_info": {
      "name": "python"
    }
  },
  "cells": [
    {
      "cell_type": "markdown",
      "metadata": {
        "id": "view-in-github",
        "colab_type": "text"
      },
      "source": [
        "<a href=\"https://colab.research.google.com/github/AleR26/ColabFiles/blob/main/practicasregresionlasso_ridge.ipynb\" target=\"_parent\"><img src=\"https://colab.research.google.com/assets/colab-badge.svg\" alt=\"Open In Colab\"/></a>"
      ]
    },
    {
      "cell_type": "markdown",
      "source": [
        "### **Instrucciones y Objetivos para la Práctica: Regresión Lasso y Ridge**\n",
        "\n",
        "#### **📌 Objetivos de la Práctica:**  \n",
        "Al finalizar esta práctica, los estudiantes serán capaces de:  \n",
        "1. **Realizar un Análisis Exploratorio de Datos (EDA)** completo, incluyendo visualización de distribuciones, detección de outliers y análisis de correlaciones.  \n",
        "2. **Preprocesar datos** correctamente, manejando valores faltantes, codificando variables categóricas y escalando características.  \n",
        "3. **Implementar modelos de regresión Lasso y Ridge**, entendiendo cómo la regularización afecta los coeficientes.  \n",
        "4. **Verificar los supuestos de la regresión lineal** (linealidad, normalidad de residuos, homocedasticidad y multicolinealidad).  \n",
        "5. **Comparar el rendimiento** de ambos modelos y analizar qué variables son más relevantes en cada caso.  \n",
        "\n",
        "---\n",
        "\n",
        "### **📌 Entrega de la Práctica**  \n",
        "Al finalizar la practica, incluye un texto con los siguientes elementos\n",
        "- Incluir **comentarios explicativos** en cada paso.  \n",
        "- Responder las **preguntas planteadas** en celdas Markdown.  \n",
        "\n",
        "🎯 **Criterios de Evaluación:**  \n",
        "✔ **Correcto preprocesamiento** (manejo de nulos, escalado, encoding).  \n",
        "✔ **Análisis visual y estadístico** (gráficos claros, interpretación de resultados).  \n",
        "✔ **Validación de supuestos** (justificación de si se cumplen o no).  \n",
        "✔ **Comparación crítica** entre Lasso y Ridge.  "
      ],
      "metadata": {
        "id": "cutGS1pjlfr3"
      }
    },
    {
      "cell_type": "markdown",
      "source": [
        "\n",
        "\n",
        "---\n",
        "\n",
        "\n",
        "#### **🔹 Paso 1: Configuración Inicial**\n",
        "✅ Carga el set de datos que puedes encontrar en el campus virtual\n",
        "\n",
        "✅ Ejecutar las celdas de importación de librerías y carga del dataset.  \n",
        "✅ Familiarizarse con los datos usando `.head()`, `.info()` y `.describe()`."
      ],
      "metadata": {
        "id": "LsCcHRY3Ftb3"
      }
    },
    {
      "cell_type": "code",
      "source": [
        "from google.colab import drive\n",
        "drive.mount('/content/drive')"
      ],
      "metadata": {
        "colab": {
          "base_uri": "https://localhost:8080/"
        },
        "id": "aDW4naCoF8KD",
        "outputId": "c55da29c-bc6e-4104-b003-40b926944730"
      },
      "execution_count": 2,
      "outputs": [
        {
          "output_type": "stream",
          "name": "stdout",
          "text": [
            "Mounted at /content/drive\n"
          ]
        }
      ]
    },
    {
      "cell_type": "code",
      "source": [
        "import pandas as pd\n",
        "\n",
        "df = pd.read_csv(\"/content/drive/MyDrive/ClassFiles/insurance.csv\")\n",
        "print(\"Primeras lineas del archivo: \\n\" , df.head())\n",
        "print(df.info())\n",
        "print(\"\\nAnalisis estadistico del dataset \\n\", df.describe())"
      ],
      "metadata": {
        "colab": {
          "base_uri": "https://localhost:8080/"
        },
        "id": "5GSHDdoiFoO8",
        "outputId": "bb89a1d5-d223-4114-d694-3a5de2646fdd"
      },
      "execution_count": 7,
      "outputs": [
        {
          "output_type": "stream",
          "name": "stdout",
          "text": [
            "Primeras lineas del archivo: \n",
            "    age     sex     bmi  children smoker     region      charges\n",
            "0   19  female  27.900         0    yes  southwest  16884.92400\n",
            "1   18    male  33.770         1     no  southeast   1725.55230\n",
            "2   28    male  33.000         3     no  southeast   4449.46200\n",
            "3   33    male  22.705         0     no  northwest  21984.47061\n",
            "4   32    male  28.880         0     no  northwest   3866.85520\n",
            "<class 'pandas.core.frame.DataFrame'>\n",
            "RangeIndex: 1338 entries, 0 to 1337\n",
            "Data columns (total 7 columns):\n",
            " #   Column    Non-Null Count  Dtype  \n",
            "---  ------    --------------  -----  \n",
            " 0   age       1338 non-null   int64  \n",
            " 1   sex       1338 non-null   object \n",
            " 2   bmi       1338 non-null   float64\n",
            " 3   children  1338 non-null   int64  \n",
            " 4   smoker    1338 non-null   object \n",
            " 5   region    1338 non-null   object \n",
            " 6   charges   1338 non-null   float64\n",
            "dtypes: float64(2), int64(2), object(3)\n",
            "memory usage: 73.3+ KB\n",
            "None\n",
            "\n",
            "Analisis estadistico del dataset \n",
            "                age          bmi     children       charges\n",
            "count  1338.000000  1338.000000  1338.000000   1338.000000\n",
            "mean     39.207025    30.663397     1.094918  13270.422265\n",
            "std      14.049960     6.098187     1.205493  12110.011237\n",
            "min      18.000000    15.960000     0.000000   1121.873900\n",
            "25%      27.000000    26.296250     0.000000   4740.287150\n",
            "50%      39.000000    30.400000     1.000000   9382.033000\n",
            "75%      51.000000    34.693750     2.000000  16639.912515\n",
            "max      64.000000    53.130000     5.000000  63770.428010\n"
          ]
        }
      ]
    },
    {
      "cell_type": "markdown",
      "source": [
        "#### **🔹 Paso 2: Análisis Exploratorio (EDA)**  \n",
        "📊 **Para variables numéricas:**  \n",
        "- Generar histogramas y boxplots para identificar distribuciones y outliers.  \n",
        "- Calcular medidas de tendencia central y dispersión.  \n",
        "\n",
        "📊 **Para variables categóricas:**  \n",
        "- Usar gráficos de barras para visualizar frecuencias.   "
      ],
      "metadata": {
        "id": "KOM3-lCGHWWp"
      }
    },
    {
      "cell_type": "code",
      "source": [],
      "metadata": {
        "id": "2ncAdb1LG32y"
      },
      "execution_count": null,
      "outputs": []
    },
    {
      "cell_type": "markdown",
      "source": [
        "#### **🔹 Paso 3: Matriz de Correlación**  \n",
        "✅ Calcular la matriz de correlación **solo para variables numéricas**.  \n",
        "✅ Generar un **mapa de calor** para visualizar relaciones.  \n",
        "📌 **Pregunta:** ¿Qué variables están más correlacionadas con el target (`charges`)? (salida del dataset)  \n"
      ],
      "metadata": {
        "id": "5r-jOopRHpxN"
      }
    },
    {
      "cell_type": "code",
      "source": [],
      "metadata": {
        "id": "y2gM8JjIHsF1"
      },
      "execution_count": null,
      "outputs": []
    },
    {
      "cell_type": "markdown",
      "source": [
        "#### **🔹 Paso 4: Preprocesamiento**  \n",
        "🔧 **Tareas:**  \n",
        "1. Manejar valores faltantes con `SimpleImputer`.  \n",
        "2. Codificar variables categóricas con `OneHotEncoder`.  \n",
        "3. Estandarizar variables numéricas con `StandardScaler`.  \n",
        "✅ Verificar que el dataset transformado no tenga valores nulos.  "
      ],
      "metadata": {
        "id": "6L3622vwH3Op"
      }
    },
    {
      "cell_type": "code",
      "source": [],
      "metadata": {
        "id": "xm1e6JRhH3nA"
      },
      "execution_count": null,
      "outputs": []
    },
    {
      "cell_type": "markdown",
      "source": [
        "#### **🔹 Paso 5: Modelado (Lasso y Ridge)**  \n",
        "🎯 **Para cada modelo:**  \n",
        "1. Ajustar el modelo con los hiperparámetros dados (`alpha=0.1` para Lasso, `alpha=1.0` para Ridge).  \n",
        "2. Calcular **MSE** y **R²** para evaluar rendimiento.  \n",
        "3. Analizar los coeficientes para identificar variables importantes.  \n",
        "\n",
        "📌 **Pregunta:**  \n",
        "- ¿Qué modelo tiene un mejor R²? ¿Por qué crees que ocurre esto?  \n",
        "- ¿Qué variables tienen coeficientes cercanos a cero en Lasso? ¿Por qué?  "
      ],
      "metadata": {
        "id": "BgUmccgWIJ1C"
      }
    },
    {
      "cell_type": "code",
      "source": [],
      "metadata": {
        "id": "ZHNJ3k9KIKRb"
      },
      "execution_count": null,
      "outputs": []
    },
    {
      "cell_type": "markdown",
      "source": [
        "#### **🔹 Paso 6: Verificación de Supuestos**  \n",
        "📉 **Para cada modelo, verificar:**  \n",
        "1. **Linealidad** (gráfico de residuos vs predicciones).  \n",
        "2. **Normalidad de residuos** (QQ-Plot y test de Shapiro-Wilk).  \n",
        "3. **Homocedasticidad**\n",
        "4. **Multicolinealidad** (VIF > 10 indica problema).  \n",
        "\n",
        "📌 **Pregunta:**  \n",
        "- ¿Se cumplen los supuestos en ambos modelos?  \n",
        "- Si hay heterocedasticidad, ¿cómo podría solucionarse?  "
      ],
      "metadata": {
        "id": "RoSR1swZINRZ"
      }
    },
    {
      "cell_type": "code",
      "source": [],
      "metadata": {
        "id": "45T5J6_VINnB"
      },
      "execution_count": null,
      "outputs": []
    },
    {
      "cell_type": "markdown",
      "source": [
        "#### **🔹 Paso 7: Comparación Final**  \n",
        "📊 **Analizar:**  \n",
        "- ¿Qué modelo es más interpretable?  \n",
        "- ¿Cuál reduce mejor el sobreajuste?  \n",
        "- ¿Qué variables son más importantes en cada caso?  \n"
      ],
      "metadata": {
        "id": "L10D11QaIRO9"
      }
    },
    {
      "cell_type": "code",
      "source": [],
      "metadata": {
        "id": "A59UJxpKIRl1"
      },
      "execution_count": null,
      "outputs": []
    }
  ]
}