{
  "nbformat": 4,
  "nbformat_minor": 0,
  "metadata": {
    "colab": {
      "provenance": [],
      "authorship_tag": "ABX9TyO3PiN2jTkq6yztJ/KNYyAY",
      "include_colab_link": true
    },
    "kernelspec": {
      "name": "python3",
      "display_name": "Python 3"
    },
    "language_info": {
      "name": "python"
    }
  },
  "cells": [
    {
      "cell_type": "markdown",
      "metadata": {
        "id": "view-in-github",
        "colab_type": "text"
      },
      "source": [
        "<a href=\"https://colab.research.google.com/github/AleR26/ColabFiles/blob/main/optimizacionLote.ipynb\" target=\"_parent\"><img src=\"https://colab.research.google.com/assets/colab-badge.svg\" alt=\"Open In Colab\"/></a>"
      ]
    },
    {
      "cell_type": "code",
      "execution_count": 4,
      "metadata": {
        "colab": {
          "base_uri": "https://localhost:8080/",
          "height": 66
        },
        "id": "kiUhQ-YcqSDM",
        "outputId": "bca42230-acf2-4d56-ec66-f62056592ba3"
      },
      "outputs": [
        {
          "output_type": "execute_result",
          "data": {
            "text/plain": [
              "Ntotal*(B**3*C/Ntotal + t0)/B"
            ],
            "text/latex": "$\\displaystyle \\frac{Ntotal \\left(\\frac{B^{3} C}{Ntotal} + t_{0}\\right)}{B}$"
          },
          "metadata": {},
          "execution_count": 4
        }
      ],
      "source": [
        "import sympy as sp\n",
        "\n",
        "b, n_total, c, t0  = sp.symbols('B Ntotal C t0')\n",
        "\n",
        "n_b = n_total/b\n",
        "t_b = t0 + (c/n_total) * b**3\n",
        "\n",
        "f_b = n_b * t_b\n",
        "f_b"
      ]
    },
    {
      "cell_type": "code",
      "source": [
        "primer_derivada = sp.diff(f_b, b)\n",
        "primer_derivada  = sp.simplify(primer_derivada)\n",
        "primer_derivada"
      ],
      "metadata": {
        "colab": {
          "base_uri": "https://localhost:8080/",
          "height": 52
        },
        "id": "qLu0DpYrw9He",
        "outputId": "adea48dc-f9db-4980-a130-9a459773b304"
      },
      "execution_count": 24,
      "outputs": [
        {
          "output_type": "execute_result",
          "data": {
            "text/plain": [
              "2*B*C - Ntotal*t0/B**2"
            ],
            "text/latex": "$\\displaystyle 2 B C - \\frac{Ntotal t_{0}}{B^{2}}$"
          },
          "metadata": {},
          "execution_count": 24
        }
      ]
    },
    {
      "cell_type": "code",
      "source": [
        "igualar = sp.Eq(primer_derivada, 0)\n",
        "igualar"
      ],
      "metadata": {
        "colab": {
          "base_uri": "https://localhost:8080/",
          "height": 52
        },
        "id": "LF691VBd5Znw",
        "outputId": "540e1ac0-cc74-4d2f-dc02-412a0015a36d"
      },
      "execution_count": 25,
      "outputs": [
        {
          "output_type": "execute_result",
          "data": {
            "text/plain": [
              "Eq(2*B*C - Ntotal*t0/B**2, 0)"
            ],
            "text/latex": "$\\displaystyle 2 B C - \\frac{Ntotal t_{0}}{B^{2}} = 0$"
          },
          "metadata": {},
          "execution_count": 25
        }
      ]
    },
    {
      "cell_type": "code",
      "metadata": {
        "id": "815d2ad4"
      },
      "source": [
        "n_total_val = 10000\n",
        "t0_val = 5\n",
        "c_val = 0.000010\n",
        "\n"
      ],
      "execution_count": 26,
      "outputs": []
    },
    {
      "cell_type": "code",
      "metadata": {
        "colab": {
          "base_uri": "https://localhost:8080/",
          "height": 51
        },
        "id": "4c437818",
        "outputId": "c7ea37d2-03a8-4040-e8c1-a287c475505d"
      },
      "source": [
        "solucion_evaluada = igualar.subs({n_total: n_total_val, t0: t0_val, c:c_val})\n",
        "solucion_evaluada\n"
      ],
      "execution_count": 27,
      "outputs": [
        {
          "output_type": "execute_result",
          "data": {
            "text/plain": [
              "Eq(2.0e-5*B - 50000/B**2, 0)"
            ],
            "text/latex": "$\\displaystyle 2.0 \\cdot 10^{-5} B - \\frac{50000}{B^{2}} = 0$"
          },
          "metadata": {},
          "execution_count": 27
        }
      ]
    },
    {
      "cell_type": "code",
      "source": [],
      "metadata": {
        "colab": {
          "base_uri": "https://localhost:8080/"
        },
        "id": "bujtab0n13gv",
        "outputId": "bc927906-1b6b-4b4c-944a-66e16abae91a"
      },
      "execution_count": 30,
      "outputs": [
        {
          "output_type": "execute_result",
          "data": {
            "text/plain": [
              "[1357.20880829745,\n",
              " -678.604404148727 - 1175.3773062256*I,\n",
              " -678.604404148727 + 1175.3773062256*I]"
            ]
          },
          "metadata": {},
          "execution_count": 30
        }
      ]
    },
    {
      "cell_type": "code",
      "source": [],
      "metadata": {
        "id": "6dDobymB3gOw"
      },
      "execution_count": null,
      "outputs": []
    }
  ]
}