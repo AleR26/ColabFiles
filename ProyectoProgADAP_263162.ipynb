{
  "nbformat": 4,
  "nbformat_minor": 0,
  "metadata": {
    "colab": {
      "provenance": [],
      "include_colab_link": true
    },
    "kernelspec": {
      "name": "python3",
      "display_name": "Python 3"
    },
    "language_info": {
      "name": "python"
    }
  },
  "cells": [
    {
      "cell_type": "markdown",
      "metadata": {
        "id": "view-in-github",
        "colab_type": "text"
      },
      "source": [
        "<a href=\"https://colab.research.google.com/github/AleR26/ColabFiles/blob/main/ProyectoProgADAP_263162.ipynb\" target=\"_parent\"><img src=\"https://colab.research.google.com/assets/colab-badge.svg\" alt=\"Open In Colab\"/></a>"
      ]
    },
    {
      "cell_type": "markdown",
      "source": [
        "# **Proyecto de Programación para Analítica Descriptiva y Predictiva**\n",
        "## Nombre del Proyecto: Factores de riesgo de la hipertension\n",
        "## Grupo: B\n",
        "## Autor: Alejandra Margarita Rivas Simental\n",
        "## Matrícula: 263162\n",
        "## Fecha: 9/10/2025"
      ],
      "metadata": {
        "id": "V5SiSwjFaQ8j"
      }
    },
    {
      "cell_type": "markdown",
      "source": [
        "# **1. Introducción**\n",
        "\n",
        "## - Descripción del problema: En México, más de 30 millones de personas padecen hipertensión arterial: Secretaría de Salud. Con este proyecto queremos predecir el riesgo que tiene una persona de desarrollar hipertensión de acuerdo a su estilo de vida.\n",
        "## - Objetivo del análisis: Predecir el riesgo que tiene una persona de desarrollar hipertensión de acuerdo a su estilo de vida.\n",
        "## - Fuente de datos: ¿De dónde provienen los datos? Utilizaremos un csv llamado Hypertension-dataset que sacamos de la página de Kaggle\n",
        " https://www.kaggle.com/datasets/sumedh1507/hypertension-dataset\n"
      ],
      "metadata": {
        "id": "6ljsvIIXbAHF"
      }
    },
    {
      "cell_type": "markdown",
      "source": [
        "# **2. Captura y Carga de Datos**\n",
        "\n",
        "## - Explicación de la fuente de datos: ¿Cuáles son las fuentes de datos?, ¿Qué formato tienen los datos (CSV, SQL, API, etc.)?, ¿Cuántas observaciones y variables contiene el dataset?\n",
        "###Fuente: Kaggle -  Hypertension Dataset, el archivo es un CSV\n",
        "###Cantidad de Filas: 1985\n",
        "###Cantidad de columnas: 11\n",
        "###Variables incluidas:\n",
        "* Edad\n",
        "* Consumo de sal\n",
        "* Nivel de estrés\n",
        "* Historial de presión arterial\n",
        "* Duración del sueño\n",
        "* Indice de masa corporal (IMC)\n",
        "* Medicación\n",
        "* Historial Familiar\n",
        "* Nivel de ejercicio\n",
        "* Estado de fumador\n",
        "* Diagnostico de hipertensión\n",
        "## - Explicación sobre problemas en la carga de Datos y el Código para la carga de datos desde archivos (bibiotecas, etc.)\n",
        "\n",
        "### Para La carga de datos usamos la libreria de pandas y la cargamos desde drive"
      ],
      "metadata": {
        "id": "R2awiYXqa6Tv"
      }
    },
    {
      "cell_type": "code",
      "source": [
        "from google.colab import drive\n",
        "drive.mount('/content/drive')"
      ],
      "metadata": {
        "colab": {
          "base_uri": "https://localhost:8080/"
        },
        "id": "vOM-r-vZ0yD_",
        "outputId": "645e551e-a5a6-4719-c680-929e377b738d"
      },
      "execution_count": 2,
      "outputs": [
        {
          "output_type": "stream",
          "name": "stdout",
          "text": [
            "Drive already mounted at /content/drive; to attempt to forcibly remount, call drive.mount(\"/content/drive\", force_remount=True).\n"
          ]
        }
      ]
    },
    {
      "cell_type": "code",
      "source": [
        "import pandas as pd\n",
        "\n",
        "df = pd.read_csv('/content/drive/MyDrive/ClassFiles/hypertension_dataset.csv')\n",
        "df.head()"
      ],
      "metadata": {
        "colab": {
          "base_uri": "https://localhost:8080/",
          "height": 243
        },
        "id": "tuQUwk2m1I8C",
        "outputId": "ffdf2273-080a-4081-880c-1e9f50d8688e"
      },
      "execution_count": 3,
      "outputs": [
        {
          "output_type": "execute_result",
          "data": {
            "text/plain": [
              "   Age  Salt_Intake  Stress_Score       BP_History  Sleep_Duration   BMI  \\\n",
              "0   69          8.0             9           Normal             6.4  25.8   \n",
              "1   32         11.7            10           Normal             5.4  23.4   \n",
              "2   78          9.5             3           Normal             7.1  18.7   \n",
              "3   38         10.0            10     Hypertension             4.2  22.1   \n",
              "4   41          9.8             1  Prehypertension             5.8  16.2   \n",
              "\n",
              "      Medication Family_History Exercise_Level Smoking_Status Has_Hypertension  \n",
              "0            NaN            Yes            Low     Non-Smoker              Yes  \n",
              "1            NaN             No            Low     Non-Smoker               No  \n",
              "2            NaN             No       Moderate     Non-Smoker               No  \n",
              "3  ACE Inhibitor             No            Low     Non-Smoker              Yes  \n",
              "4          Other             No       Moderate     Non-Smoker               No  "
            ],
            "text/html": [
              "\n",
              "  <div id=\"df-9e1a7fef-b478-45ab-850f-e3ee417e2093\" class=\"colab-df-container\">\n",
              "    <div>\n",
              "<style scoped>\n",
              "    .dataframe tbody tr th:only-of-type {\n",
              "        vertical-align: middle;\n",
              "    }\n",
              "\n",
              "    .dataframe tbody tr th {\n",
              "        vertical-align: top;\n",
              "    }\n",
              "\n",
              "    .dataframe thead th {\n",
              "        text-align: right;\n",
              "    }\n",
              "</style>\n",
              "<table border=\"1\" class=\"dataframe\">\n",
              "  <thead>\n",
              "    <tr style=\"text-align: right;\">\n",
              "      <th></th>\n",
              "      <th>Age</th>\n",
              "      <th>Salt_Intake</th>\n",
              "      <th>Stress_Score</th>\n",
              "      <th>BP_History</th>\n",
              "      <th>Sleep_Duration</th>\n",
              "      <th>BMI</th>\n",
              "      <th>Medication</th>\n",
              "      <th>Family_History</th>\n",
              "      <th>Exercise_Level</th>\n",
              "      <th>Smoking_Status</th>\n",
              "      <th>Has_Hypertension</th>\n",
              "    </tr>\n",
              "  </thead>\n",
              "  <tbody>\n",
              "    <tr>\n",
              "      <th>0</th>\n",
              "      <td>69</td>\n",
              "      <td>8.0</td>\n",
              "      <td>9</td>\n",
              "      <td>Normal</td>\n",
              "      <td>6.4</td>\n",
              "      <td>25.8</td>\n",
              "      <td>NaN</td>\n",
              "      <td>Yes</td>\n",
              "      <td>Low</td>\n",
              "      <td>Non-Smoker</td>\n",
              "      <td>Yes</td>\n",
              "    </tr>\n",
              "    <tr>\n",
              "      <th>1</th>\n",
              "      <td>32</td>\n",
              "      <td>11.7</td>\n",
              "      <td>10</td>\n",
              "      <td>Normal</td>\n",
              "      <td>5.4</td>\n",
              "      <td>23.4</td>\n",
              "      <td>NaN</td>\n",
              "      <td>No</td>\n",
              "      <td>Low</td>\n",
              "      <td>Non-Smoker</td>\n",
              "      <td>No</td>\n",
              "    </tr>\n",
              "    <tr>\n",
              "      <th>2</th>\n",
              "      <td>78</td>\n",
              "      <td>9.5</td>\n",
              "      <td>3</td>\n",
              "      <td>Normal</td>\n",
              "      <td>7.1</td>\n",
              "      <td>18.7</td>\n",
              "      <td>NaN</td>\n",
              "      <td>No</td>\n",
              "      <td>Moderate</td>\n",
              "      <td>Non-Smoker</td>\n",
              "      <td>No</td>\n",
              "    </tr>\n",
              "    <tr>\n",
              "      <th>3</th>\n",
              "      <td>38</td>\n",
              "      <td>10.0</td>\n",
              "      <td>10</td>\n",
              "      <td>Hypertension</td>\n",
              "      <td>4.2</td>\n",
              "      <td>22.1</td>\n",
              "      <td>ACE Inhibitor</td>\n",
              "      <td>No</td>\n",
              "      <td>Low</td>\n",
              "      <td>Non-Smoker</td>\n",
              "      <td>Yes</td>\n",
              "    </tr>\n",
              "    <tr>\n",
              "      <th>4</th>\n",
              "      <td>41</td>\n",
              "      <td>9.8</td>\n",
              "      <td>1</td>\n",
              "      <td>Prehypertension</td>\n",
              "      <td>5.8</td>\n",
              "      <td>16.2</td>\n",
              "      <td>Other</td>\n",
              "      <td>No</td>\n",
              "      <td>Moderate</td>\n",
              "      <td>Non-Smoker</td>\n",
              "      <td>No</td>\n",
              "    </tr>\n",
              "  </tbody>\n",
              "</table>\n",
              "</div>\n",
              "    <div class=\"colab-df-buttons\">\n",
              "\n",
              "  <div class=\"colab-df-container\">\n",
              "    <button class=\"colab-df-convert\" onclick=\"convertToInteractive('df-9e1a7fef-b478-45ab-850f-e3ee417e2093')\"\n",
              "            title=\"Convert this dataframe to an interactive table.\"\n",
              "            style=\"display:none;\">\n",
              "\n",
              "  <svg xmlns=\"http://www.w3.org/2000/svg\" height=\"24px\" viewBox=\"0 -960 960 960\">\n",
              "    <path d=\"M120-120v-720h720v720H120Zm60-500h600v-160H180v160Zm220 220h160v-160H400v160Zm0 220h160v-160H400v160ZM180-400h160v-160H180v160Zm440 0h160v-160H620v160ZM180-180h160v-160H180v160Zm440 0h160v-160H620v160Z\"/>\n",
              "  </svg>\n",
              "    </button>\n",
              "\n",
              "  <style>\n",
              "    .colab-df-container {\n",
              "      display:flex;\n",
              "      gap: 12px;\n",
              "    }\n",
              "\n",
              "    .colab-df-convert {\n",
              "      background-color: #E8F0FE;\n",
              "      border: none;\n",
              "      border-radius: 50%;\n",
              "      cursor: pointer;\n",
              "      display: none;\n",
              "      fill: #1967D2;\n",
              "      height: 32px;\n",
              "      padding: 0 0 0 0;\n",
              "      width: 32px;\n",
              "    }\n",
              "\n",
              "    .colab-df-convert:hover {\n",
              "      background-color: #E2EBFA;\n",
              "      box-shadow: 0px 1px 2px rgba(60, 64, 67, 0.3), 0px 1px 3px 1px rgba(60, 64, 67, 0.15);\n",
              "      fill: #174EA6;\n",
              "    }\n",
              "\n",
              "    .colab-df-buttons div {\n",
              "      margin-bottom: 4px;\n",
              "    }\n",
              "\n",
              "    [theme=dark] .colab-df-convert {\n",
              "      background-color: #3B4455;\n",
              "      fill: #D2E3FC;\n",
              "    }\n",
              "\n",
              "    [theme=dark] .colab-df-convert:hover {\n",
              "      background-color: #434B5C;\n",
              "      box-shadow: 0px 1px 3px 1px rgba(0, 0, 0, 0.15);\n",
              "      filter: drop-shadow(0px 1px 2px rgba(0, 0, 0, 0.3));\n",
              "      fill: #FFFFFF;\n",
              "    }\n",
              "  </style>\n",
              "\n",
              "    <script>\n",
              "      const buttonEl =\n",
              "        document.querySelector('#df-9e1a7fef-b478-45ab-850f-e3ee417e2093 button.colab-df-convert');\n",
              "      buttonEl.style.display =\n",
              "        google.colab.kernel.accessAllowed ? 'block' : 'none';\n",
              "\n",
              "      async function convertToInteractive(key) {\n",
              "        const element = document.querySelector('#df-9e1a7fef-b478-45ab-850f-e3ee417e2093');\n",
              "        const dataTable =\n",
              "          await google.colab.kernel.invokeFunction('convertToInteractive',\n",
              "                                                    [key], {});\n",
              "        if (!dataTable) return;\n",
              "\n",
              "        const docLinkHtml = 'Like what you see? Visit the ' +\n",
              "          '<a target=\"_blank\" href=https://colab.research.google.com/notebooks/data_table.ipynb>data table notebook</a>'\n",
              "          + ' to learn more about interactive tables.';\n",
              "        element.innerHTML = '';\n",
              "        dataTable['output_type'] = 'display_data';\n",
              "        await google.colab.output.renderOutput(dataTable, element);\n",
              "        const docLink = document.createElement('div');\n",
              "        docLink.innerHTML = docLinkHtml;\n",
              "        element.appendChild(docLink);\n",
              "      }\n",
              "    </script>\n",
              "  </div>\n",
              "\n",
              "\n",
              "    <div id=\"df-0331cd01-eecd-491b-94c8-6295333acb94\">\n",
              "      <button class=\"colab-df-quickchart\" onclick=\"quickchart('df-0331cd01-eecd-491b-94c8-6295333acb94')\"\n",
              "                title=\"Suggest charts\"\n",
              "                style=\"display:none;\">\n",
              "\n",
              "<svg xmlns=\"http://www.w3.org/2000/svg\" height=\"24px\"viewBox=\"0 0 24 24\"\n",
              "     width=\"24px\">\n",
              "    <g>\n",
              "        <path d=\"M19 3H5c-1.1 0-2 .9-2 2v14c0 1.1.9 2 2 2h14c1.1 0 2-.9 2-2V5c0-1.1-.9-2-2-2zM9 17H7v-7h2v7zm4 0h-2V7h2v10zm4 0h-2v-4h2v4z\"/>\n",
              "    </g>\n",
              "</svg>\n",
              "      </button>\n",
              "\n",
              "<style>\n",
              "  .colab-df-quickchart {\n",
              "      --bg-color: #E8F0FE;\n",
              "      --fill-color: #1967D2;\n",
              "      --hover-bg-color: #E2EBFA;\n",
              "      --hover-fill-color: #174EA6;\n",
              "      --disabled-fill-color: #AAA;\n",
              "      --disabled-bg-color: #DDD;\n",
              "  }\n",
              "\n",
              "  [theme=dark] .colab-df-quickchart {\n",
              "      --bg-color: #3B4455;\n",
              "      --fill-color: #D2E3FC;\n",
              "      --hover-bg-color: #434B5C;\n",
              "      --hover-fill-color: #FFFFFF;\n",
              "      --disabled-bg-color: #3B4455;\n",
              "      --disabled-fill-color: #666;\n",
              "  }\n",
              "\n",
              "  .colab-df-quickchart {\n",
              "    background-color: var(--bg-color);\n",
              "    border: none;\n",
              "    border-radius: 50%;\n",
              "    cursor: pointer;\n",
              "    display: none;\n",
              "    fill: var(--fill-color);\n",
              "    height: 32px;\n",
              "    padding: 0;\n",
              "    width: 32px;\n",
              "  }\n",
              "\n",
              "  .colab-df-quickchart:hover {\n",
              "    background-color: var(--hover-bg-color);\n",
              "    box-shadow: 0 1px 2px rgba(60, 64, 67, 0.3), 0 1px 3px 1px rgba(60, 64, 67, 0.15);\n",
              "    fill: var(--button-hover-fill-color);\n",
              "  }\n",
              "\n",
              "  .colab-df-quickchart-complete:disabled,\n",
              "  .colab-df-quickchart-complete:disabled:hover {\n",
              "    background-color: var(--disabled-bg-color);\n",
              "    fill: var(--disabled-fill-color);\n",
              "    box-shadow: none;\n",
              "  }\n",
              "\n",
              "  .colab-df-spinner {\n",
              "    border: 2px solid var(--fill-color);\n",
              "    border-color: transparent;\n",
              "    border-bottom-color: var(--fill-color);\n",
              "    animation:\n",
              "      spin 1s steps(1) infinite;\n",
              "  }\n",
              "\n",
              "  @keyframes spin {\n",
              "    0% {\n",
              "      border-color: transparent;\n",
              "      border-bottom-color: var(--fill-color);\n",
              "      border-left-color: var(--fill-color);\n",
              "    }\n",
              "    20% {\n",
              "      border-color: transparent;\n",
              "      border-left-color: var(--fill-color);\n",
              "      border-top-color: var(--fill-color);\n",
              "    }\n",
              "    30% {\n",
              "      border-color: transparent;\n",
              "      border-left-color: var(--fill-color);\n",
              "      border-top-color: var(--fill-color);\n",
              "      border-right-color: var(--fill-color);\n",
              "    }\n",
              "    40% {\n",
              "      border-color: transparent;\n",
              "      border-right-color: var(--fill-color);\n",
              "      border-top-color: var(--fill-color);\n",
              "    }\n",
              "    60% {\n",
              "      border-color: transparent;\n",
              "      border-right-color: var(--fill-color);\n",
              "    }\n",
              "    80% {\n",
              "      border-color: transparent;\n",
              "      border-right-color: var(--fill-color);\n",
              "      border-bottom-color: var(--fill-color);\n",
              "    }\n",
              "    90% {\n",
              "      border-color: transparent;\n",
              "      border-bottom-color: var(--fill-color);\n",
              "    }\n",
              "  }\n",
              "</style>\n",
              "\n",
              "      <script>\n",
              "        async function quickchart(key) {\n",
              "          const quickchartButtonEl =\n",
              "            document.querySelector('#' + key + ' button');\n",
              "          quickchartButtonEl.disabled = true;  // To prevent multiple clicks.\n",
              "          quickchartButtonEl.classList.add('colab-df-spinner');\n",
              "          try {\n",
              "            const charts = await google.colab.kernel.invokeFunction(\n",
              "                'suggestCharts', [key], {});\n",
              "          } catch (error) {\n",
              "            console.error('Error during call to suggestCharts:', error);\n",
              "          }\n",
              "          quickchartButtonEl.classList.remove('colab-df-spinner');\n",
              "          quickchartButtonEl.classList.add('colab-df-quickchart-complete');\n",
              "        }\n",
              "        (() => {\n",
              "          let quickchartButtonEl =\n",
              "            document.querySelector('#df-0331cd01-eecd-491b-94c8-6295333acb94 button');\n",
              "          quickchartButtonEl.style.display =\n",
              "            google.colab.kernel.accessAllowed ? 'block' : 'none';\n",
              "        })();\n",
              "      </script>\n",
              "    </div>\n",
              "\n",
              "    </div>\n",
              "  </div>\n"
            ],
            "application/vnd.google.colaboratory.intrinsic+json": {
              "type": "dataframe",
              "variable_name": "df",
              "summary": "{\n  \"name\": \"df\",\n  \"rows\": 1985,\n  \"fields\": [\n    {\n      \"column\": \"Age\",\n      \"properties\": {\n        \"dtype\": \"number\",\n        \"std\": 19,\n        \"min\": 18,\n        \"max\": 84,\n        \"num_unique_values\": 67,\n        \"samples\": [\n          51,\n          76,\n          41\n        ],\n        \"semantic_type\": \"\",\n        \"description\": \"\"\n      }\n    },\n    {\n      \"column\": \"Salt_Intake\",\n      \"properties\": {\n        \"dtype\": \"number\",\n        \"std\": 1.9949074335722863,\n        \"min\": 2.5,\n        \"max\": 16.4,\n        \"num_unique_values\": 121,\n        \"samples\": [\n          10.5,\n          11.5,\n          9.8\n        ],\n        \"semantic_type\": \"\",\n        \"description\": \"\"\n      }\n    },\n    {\n      \"column\": \"Stress_Score\",\n      \"properties\": {\n        \"dtype\": \"number\",\n        \"std\": 3,\n        \"min\": 0,\n        \"max\": 10,\n        \"num_unique_values\": 11,\n        \"samples\": [\n          7,\n          9,\n          4\n        ],\n        \"semantic_type\": \"\",\n        \"description\": \"\"\n      }\n    },\n    {\n      \"column\": \"BP_History\",\n      \"properties\": {\n        \"dtype\": \"category\",\n        \"num_unique_values\": 3,\n        \"samples\": [\n          \"Normal\",\n          \"Hypertension\",\n          \"Prehypertension\"\n        ],\n        \"semantic_type\": \"\",\n        \"description\": \"\"\n      }\n    },\n    {\n      \"column\": \"Sleep_Duration\",\n      \"properties\": {\n        \"dtype\": \"number\",\n        \"std\": 1.5422073433503727,\n        \"min\": 1.5,\n        \"max\": 11.4,\n        \"num_unique_values\": 88,\n        \"samples\": [\n          9.3,\n          6.4,\n          6.0\n        ],\n        \"semantic_type\": \"\",\n        \"description\": \"\"\n      }\n    },\n    {\n      \"column\": \"BMI\",\n      \"properties\": {\n        \"dtype\": \"number\",\n        \"std\": 4.5128565463315935,\n        \"min\": 11.9,\n        \"max\": 41.9,\n        \"num_unique_values\": 236,\n        \"samples\": [\n          32.1,\n          16.0,\n          33.4\n        ],\n        \"semantic_type\": \"\",\n        \"description\": \"\"\n      }\n    },\n    {\n      \"column\": \"Medication\",\n      \"properties\": {\n        \"dtype\": \"category\",\n        \"num_unique_values\": 4,\n        \"samples\": [\n          \"Other\",\n          \"Diuretic\",\n          \"ACE Inhibitor\"\n        ],\n        \"semantic_type\": \"\",\n        \"description\": \"\"\n      }\n    },\n    {\n      \"column\": \"Family_History\",\n      \"properties\": {\n        \"dtype\": \"category\",\n        \"num_unique_values\": 2,\n        \"samples\": [\n          \"No\",\n          \"Yes\"\n        ],\n        \"semantic_type\": \"\",\n        \"description\": \"\"\n      }\n    },\n    {\n      \"column\": \"Exercise_Level\",\n      \"properties\": {\n        \"dtype\": \"category\",\n        \"num_unique_values\": 3,\n        \"samples\": [\n          \"Low\",\n          \"Moderate\"\n        ],\n        \"semantic_type\": \"\",\n        \"description\": \"\"\n      }\n    },\n    {\n      \"column\": \"Smoking_Status\",\n      \"properties\": {\n        \"dtype\": \"category\",\n        \"num_unique_values\": 2,\n        \"samples\": [\n          \"Smoker\",\n          \"Non-Smoker\"\n        ],\n        \"semantic_type\": \"\",\n        \"description\": \"\"\n      }\n    },\n    {\n      \"column\": \"Has_Hypertension\",\n      \"properties\": {\n        \"dtype\": \"category\",\n        \"num_unique_values\": 2,\n        \"samples\": [\n          \"No\",\n          \"Yes\"\n        ],\n        \"semantic_type\": \"\",\n        \"description\": \"\"\n      }\n    }\n  ]\n}"
            }
          },
          "metadata": {},
          "execution_count": 3
        }
      ]
    },
    {
      "cell_type": "markdown",
      "source": [
        "#**3.Transformación y Preprocesamiento - Data Wrangling**\n",
        "\n",
        "## - Identificación de Tipos de Datos\n",
        "## - Cantidad de Valores nulos\n",
        "##- Explicación sobre cada una de las problemáticas encontradas, las soluciones y el código"
      ],
      "metadata": {
        "id": "oKCLUQvPcSOm"
      }
    },
    {
      "cell_type": "code",
      "source": [
        "print('Tipo de dato: ', df.info())\n",
        "\n",
        "# Verificar valores faltantes\n",
        "print(\"\\nCantidad de valores nulos:\")\n",
        "print(df.isnull().sum())"
      ],
      "metadata": {
        "colab": {
          "base_uri": "https://localhost:8080/"
        },
        "id": "eM8Ovb0R1aRO",
        "outputId": "6681e196-7528-47ed-d1c6-fca8e106bcce"
      },
      "execution_count": 8,
      "outputs": [
        {
          "output_type": "stream",
          "name": "stdout",
          "text": [
            "<class 'pandas.core.frame.DataFrame'>\n",
            "RangeIndex: 1985 entries, 0 to 1984\n",
            "Data columns (total 11 columns):\n",
            " #   Column            Non-Null Count  Dtype  \n",
            "---  ------            --------------  -----  \n",
            " 0   Age               1985 non-null   int64  \n",
            " 1   Salt_Intake       1985 non-null   float64\n",
            " 2   Stress_Score      1985 non-null   int64  \n",
            " 3   BP_History        1985 non-null   object \n",
            " 4   Sleep_Duration    1985 non-null   float64\n",
            " 5   BMI               1985 non-null   float64\n",
            " 6   Medication        1186 non-null   object \n",
            " 7   Family_History    1985 non-null   object \n",
            " 8   Exercise_Level    1985 non-null   object \n",
            " 9   Smoking_Status    1985 non-null   object \n",
            " 10  Has_Hypertension  1985 non-null   object \n",
            "dtypes: float64(3), int64(2), object(6)\n",
            "memory usage: 170.7+ KB\n",
            "Tipo de dato:  None\n",
            "\n",
            "Cantidad de valores nulos:\n",
            "Age                   0\n",
            "Salt_Intake           0\n",
            "Stress_Score          0\n",
            "BP_History            0\n",
            "Sleep_Duration        0\n",
            "BMI                   0\n",
            "Medication          799\n",
            "Family_History        0\n",
            "Exercise_Level        0\n",
            "Smoking_Status        0\n",
            "Has_Hypertension      0\n",
            "dtype: int64\n"
          ]
        }
      ]
    },
    {
      "cell_type": "code",
      "source": [
        "print('Valores unicos en la columna BP_History: ', df['BP_History'].unique())\n",
        "print('\\nConteo de valores unicos en cada categoría',df['BP_History'].value_counts())"
      ],
      "metadata": {
        "colab": {
          "base_uri": "https://localhost:8080/"
        },
        "id": "yp_Uk2DR4hIr",
        "outputId": "5f4c8d68-70cc-4962-fd04-fe60f77a8bff"
      },
      "execution_count": 13,
      "outputs": [
        {
          "output_type": "stream",
          "name": "stdout",
          "text": [
            "Valores unicos en la columna BP_History:  ['Normal' 'Hypertension' 'Prehypertension']\n",
            "\n",
            "Conteo de valores unicos en cada categoría BP_History\n",
            "Normal             796\n",
            "Prehypertension    620\n",
            "Hypertension       569\n",
            "Name: count, dtype: int64\n"
          ]
        }
      ]
    },
    {
      "cell_type": "code",
      "source": [
        "print('Valores unicos en la columna Medication: ', df['Medication'].unique())\n",
        "print('\\nConteo de valores unicos en cada categoría',df['Medication'].value_counts())"
      ],
      "metadata": {
        "colab": {
          "base_uri": "https://localhost:8080/"
        },
        "id": "XDYNxG7G5qnE",
        "outputId": "239bb1ca-5558-4a80-d17c-82f0f7b9973a"
      },
      "execution_count": 14,
      "outputs": [
        {
          "output_type": "stream",
          "name": "stdout",
          "text": [
            "Valores unicos en la columna Medication:  [nan 'ACE Inhibitor' 'Other' 'Beta Blocker' 'Diuretic']\n",
            "\n",
            "Conteo de valores unicos en cada categoría Medication\n",
            "Beta Blocker     412\n",
            "ACE Inhibitor    323\n",
            "Diuretic         245\n",
            "Other            206\n",
            "Name: count, dtype: int64\n"
          ]
        }
      ]
    },
    {
      "cell_type": "markdown",
      "source": [
        "# **4. Análisis Descriptivo de Datos**\n",
        "\n",
        "## - Preguntas a responder con el AD\n",
        "## - Explicación de Estadísticas Básicas Aplicadas, Visualización de Datos con Gráficos, y Resumen de las respuestas"
      ],
      "metadata": {
        "id": "3gERzOTAfuOL"
      }
    },
    {
      "cell_type": "markdown",
      "source": [
        "# **5. Análisis Exploratorio de los Datos**\n",
        "\n",
        "## - Preguntas a responder\n",
        "## - Estadísticas Empleadas, visualización y Resumen de las respuestas encontradas."
      ],
      "metadata": {
        "id": "_s8IXMLsfrI5"
      }
    },
    {
      "cell_type": "markdown",
      "source": [
        "# **6. Análisis Predictivo**\n",
        "\n",
        "## - Preprocesamiento para Análisis Predictivo: Problemas, Técnicas y Código\n",
        "\n",
        "## - Modelado Predictivo\n",
        "### - Modelo elegido y parámetros\n",
        "### - Entrenamiento y Evaluación\n",
        "## - Resultados\n"
      ],
      "metadata": {
        "id": "D8irLVFimFqa"
      }
    },
    {
      "cell_type": "markdown",
      "source": [
        "# **7. Conclusiones y Trabajos Futuros**\n",
        "\n",
        "## - Resumen del trabajo realizado, hallazgos y posibles mejoras"
      ],
      "metadata": {
        "id": "8ESQV5mmmSRI"
      }
    }
  ]
}