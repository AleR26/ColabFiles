{
  "nbformat": 4,
  "nbformat_minor": 0,
  "metadata": {
    "colab": {
      "provenance": [],
      "authorship_tag": "ABX9TyNyysbvlPshHIsD4Pj1gCWg",
      "include_colab_link": true
    },
    "kernelspec": {
      "name": "python3",
      "display_name": "Python 3"
    },
    "language_info": {
      "name": "python"
    }
  },
  "cells": [
    {
      "cell_type": "markdown",
      "metadata": {
        "id": "view-in-github",
        "colab_type": "text"
      },
      "source": [
        "<a href=\"https://colab.research.google.com/github/AleR26/ColabFiles/blob/main/CrearArreglo.ipynb\" target=\"_parent\"><img src=\"https://colab.research.google.com/assets/colab-badge.svg\" alt=\"Open In Colab\"/></a>"
      ]
    },
    {
      "cell_type": "markdown",
      "source": [
        "#Creación de un arreglo y operaciones básicas"
      ],
      "metadata": {
        "id": "3iNvnApEhbbe"
      }
    },
    {
      "cell_type": "code",
      "execution_count": 2,
      "metadata": {
        "id": "SPhLt0v-fOn5",
        "colab": {
          "base_uri": "https://localhost:8080/"
        },
        "outputId": "a468f0db-5404-487f-c1b6-6d6d2784694a"
      },
      "outputs": [
        {
          "output_type": "stream",
          "name": "stdout",
          "text": [
            "Array: [ 76   3  59  20  72  72  51  43  92  76  31  17  42  52  74  62  38  79\n",
            "  55 100]\n",
            "Valor máximo: 100\n",
            "Valor minimo: 3\n",
            "Promedio: 55.7\n",
            "Sumar 10 a cada elemento: [ 86  13  69  30  82  82  61  53 102  86  41  27  52  62  84  72  48  89\n",
            "  65 110]\n"
          ]
        }
      ],
      "source": [
        "import numpy as np\n",
        "\n",
        "arr = np.random.randint(1,101,20) #inicio,fin,cantidad de datos [1,101)\n",
        "print(\"Array: \" + str(arr))\n",
        "print(\"Valor máximo: \" + str(np.max(arr)))\n",
        "print(\"Valor minimo: \" + str(np.min(arr)))\n",
        "print(\"Promedio: \" + str(np.mean(arr)))\n",
        "print(\"Sumar 10 a cada elemento: \" + str(arr+10))"
      ]
    },
    {
      "cell_type": "code",
      "source": [],
      "metadata": {
        "id": "rdq9csNIhGVf"
      },
      "execution_count": null,
      "outputs": []
    }
  ]
}