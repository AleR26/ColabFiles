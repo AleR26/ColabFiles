{
  "nbformat": 4,
  "nbformat_minor": 0,
  "metadata": {
    "colab": {
      "provenance": [],
      "authorship_tag": "ABX9TyOzzSnI2Sg2jQ/Dn9kLtMBS",
      "include_colab_link": true
    },
    "kernelspec": {
      "name": "python3",
      "display_name": "Python 3"
    },
    "language_info": {
      "name": "python"
    }
  },
  "cells": [
    {
      "cell_type": "markdown",
      "metadata": {
        "id": "view-in-github",
        "colab_type": "text"
      },
      "source": [
        "<a href=\"https://colab.research.google.com/github/AleR26/ColabFiles/blob/main/Practica13.ipynb\" target=\"_parent\"><img src=\"https://colab.research.google.com/assets/colab-badge.svg\" alt=\"Open In Colab\"/></a>"
      ]
    },
    {
      "cell_type": "markdown",
      "source": [
        "Práctica 13: Carga de Datos"
      ],
      "metadata": {
        "id": "_9UA2BqLB0ZQ"
      }
    },
    {
      "cell_type": "code",
      "execution_count": 1,
      "metadata": {
        "id": "hZ0GZDSp55lJ",
        "colab": {
          "base_uri": "https://localhost:8080/"
        },
        "outputId": "c3991740-e129-44e0-8a35-a570d6f15cd3"
      },
      "outputs": [
        {
          "output_type": "stream",
          "name": "stdout",
          "text": [
            "Mounted at /content/drive\n"
          ]
        }
      ],
      "source": [
        "from google.colab import drive\n",
        "drive.mount('/content/drive')"
      ]
    },
    {
      "cell_type": "code",
      "source": [
        "import pandas as pd\n",
        "\n",
        "df = pd.read_csv('/content/drive/MyDrive/ClassFiles/miaad-nyc-r-s.csv')\n",
        "df1 = df.dropna()\n",
        "print(\"Ultimas 3 filas del archivo\")\n",
        "print(df1.tail(3))\n",
        "print('\\n')\n",
        "print(\"Numero de filas y columnas\")\n",
        "print(df.shape)"
      ],
      "metadata": {
        "colab": {
          "base_uri": "https://localhost:8080/"
        },
        "id": "i69KBcmF6lBv",
        "outputId": "808d55c5-fae3-49e9-dd0e-ebb290f5b3b8"
      },
      "execution_count": 10,
      "outputs": [
        {
          "output_type": "stream",
          "name": "stdout",
          "text": [
            "Ultimas 3 filas del archivo\n",
            "      Unnamed: 0  BOROUGH NEIGHBORHOOD  \\\n",
            "84545       8411      5.0      WOODROW   \n",
            "84546       8412      5.0      WOODROW   \n",
            "84547       8413      5.0      WOODROW   \n",
            "\n",
            "                           BUILDING CLASS CATEGORY TAX CLASS AT PRESENT  \\\n",
            "84545  02 TWO FAMILY DWELLINGS                                        1   \n",
            "84546  22 STORE BUILDINGS                                             4   \n",
            "84547  35 INDOOR PUBLIC AND CULTURAL FACILITIES                       4   \n",
            "\n",
            "        BLOCK    LOT EASE-MENT BUILDING CLASS AT PRESENT  \\\n",
            "84545  7351.0   60.0                                  B2   \n",
            "84546  7100.0   28.0                                  K6   \n",
            "84547  7105.0  679.0                                  P9   \n",
            "\n",
            "                     ADDRESS  ... RESIDENTIAL UNITS  COMMERCIAL UNITS  \\\n",
            "84545       49 PITNEY AVENUE  ...               2.0               0.0   \n",
            "84546  2730 ARTHUR KILL ROAD  ...               0.0               7.0   \n",
            "84547      155 CLAY PIT ROAD  ...               0.0               1.0   \n",
            "\n",
            "       TOTAL UNITS  LAND SQUARE FEET  GROSS SQUARE FEET YEAR BUILT  \\\n",
            "84545          2.0              4000               1496     1925.0   \n",
            "84546          7.0            208033              64117     2001.0   \n",
            "84547          1.0             10796               2400     2006.0   \n",
            "\n",
            "      TAX CLASS AT TIME OF SALE  BUILDING CLASS AT TIME OF SALE  SALE PRICE  \\\n",
            "84545                       1.0                              B2      460000   \n",
            "84546                       4.0                              K6    11693337   \n",
            "84547                       4.0                              P9       69300   \n",
            "\n",
            "                 SALE DATE  \n",
            "84545  2017-07-05 00:00:00  \n",
            "84546  2016-12-21 00:00:00  \n",
            "84547  2016-10-27 00:00:00  \n",
            "\n",
            "[3 rows x 22 columns]\n",
            "\n",
            "\n",
            "Numero de filas y columnas\n",
            "(84549, 22)\n"
          ]
        },
        {
          "output_type": "stream",
          "name": "stderr",
          "text": [
            "/tmp/ipython-input-1670817835.py:3: DtypeWarning: Columns (0) have mixed types. Specify dtype option on import or set low_memory=False.\n",
            "  df = pd.read_csv('/content/drive/MyDrive/ClassFiles/miaad-nyc-r-s.csv')\n"
          ]
        }
      ]
    },
    {
      "cell_type": "markdown",
      "source": [
        "Práctica 14: Agregar una columna\n",
        "\n"
      ],
      "metadata": {
        "id": "8pZTCqzaFikZ"
      }
    },
    {
      "cell_type": "code",
      "source": [
        "print(\"Nombre de columnas\")\n",
        "print(df1.columns)\n",
        "renamed_df1 = df1.rename(columns= {\"Unnamed: 0\":\"INDEX MIIAD\"})\n",
        "print(\"\\n\")\n",
        "print(\"Nuevos nombres de columnas\")\n",
        "print(renamed_df1.columns)\n",
        "\n"
      ],
      "metadata": {
        "colab": {
          "base_uri": "https://localhost:8080/"
        },
        "id": "lKVWVi-LEhLk",
        "outputId": "24f18b52-e93c-431c-c49a-445aecaeb730"
      },
      "execution_count": 27,
      "outputs": [
        {
          "output_type": "stream",
          "name": "stdout",
          "text": [
            "Nombre de columnas\n",
            "Index(['Unnamed: 0', 'BOROUGH', 'NEIGHBORHOOD', 'BUILDING CLASS CATEGORY',\n",
            "       'TAX CLASS AT PRESENT', 'BLOCK', 'LOT', 'EASE-MENT',\n",
            "       'BUILDING CLASS AT PRESENT', 'ADDRESS', 'APARTMENT NUMBER', 'ZIP CODE',\n",
            "       'RESIDENTIAL UNITS', 'COMMERCIAL UNITS', 'TOTAL UNITS',\n",
            "       'LAND SQUARE FEET', 'GROSS SQUARE FEET', 'YEAR BUILT',\n",
            "       'TAX CLASS AT TIME OF SALE', 'BUILDING CLASS AT TIME OF SALE',\n",
            "       'SALE PRICE', 'SALE DATE'],\n",
            "      dtype='object')\n",
            "\n",
            "\n",
            "Nuevos nombres de columnas\n",
            "Index(['INDEX MIIAD', 'BOROUGH', 'NEIGHBORHOOD', 'BUILDING CLASS CATEGORY',\n",
            "       'TAX CLASS AT PRESENT', 'BLOCK', 'LOT', 'EASE-MENT',\n",
            "       'BUILDING CLASS AT PRESENT', 'ADDRESS', 'APARTMENT NUMBER', 'ZIP CODE',\n",
            "       'RESIDENTIAL UNITS', 'COMMERCIAL UNITS', 'TOTAL UNITS',\n",
            "       'LAND SQUARE FEET', 'GROSS SQUARE FEET', 'YEAR BUILT',\n",
            "       'TAX CLASS AT TIME OF SALE', 'BUILDING CLASS AT TIME OF SALE',\n",
            "       'SALE PRICE', 'SALE DATE'],\n",
            "      dtype='object')\n"
          ]
        }
      ]
    },
    {
      "cell_type": "markdown",
      "source": [
        "Práctica 15: Normalización de los nombres de la columna.\n",
        "\n"
      ],
      "metadata": {
        "id": "QdXCi9XKJJK3"
      }
    },
    {
      "cell_type": "code",
      "source": [
        "df.columns = renamed_df1.columns.str.lower().str.replace(\" \", \"_\")\n",
        "print(df.columns)"
      ],
      "metadata": {
        "colab": {
          "base_uri": "https://localhost:8080/"
        },
        "id": "r4DrD7kLGBXA",
        "outputId": "f5413759-3d20-460b-c581-3b5a4cf074db"
      },
      "execution_count": 28,
      "outputs": [
        {
          "output_type": "stream",
          "name": "stdout",
          "text": [
            "Index(['index_miiad', 'borough', 'neighborhood', 'building_class_category',\n",
            "       'tax_class_at_present', 'block', 'lot', 'ease-ment',\n",
            "       'building_class_at_present', 'address', 'apartment_number', 'zip_code',\n",
            "       'residential_units', 'commercial_units', 'total_units',\n",
            "       'land_square_feet', 'gross_square_feet', 'year_built',\n",
            "       'tax_class_at_time_of_sale', 'building_class_at_time_of_sale',\n",
            "       'sale_price', 'sale_date'],\n",
            "      dtype='object')\n"
          ]
        }
      ]
    },
    {
      "cell_type": "markdown",
      "source": [
        "Práctica 16: Errores en los Tipos de Datos"
      ],
      "metadata": {
        "id": "G4RRJxi1Kf3T"
      }
    },
    {
      "cell_type": "code",
      "source": [
        "print(\"Tipo de datos\")\n",
        "print(df.dtypes)\n",
        "df['land_square_feet'] = pd.to_numeric(df['land_square_feet'], errors='coerce')\n",
        "df['gross_square_feet'] = pd.to_numeric(df['gross_square_feet'], errors='coerce')\n",
        "df['sale_price'] = pd.to_numeric(df['sale_price'], errors='coerce')\n",
        "print('\\n Tipos de datos corregidos')\n",
        "print(df.dtypes)\n"
      ],
      "metadata": {
        "colab": {
          "base_uri": "https://localhost:8080/"
        },
        "id": "h7QDW3HHGT2I",
        "outputId": "f2ec5210-edbc-46c5-e65d-78e90953b7bc"
      },
      "execution_count": 39,
      "outputs": [
        {
          "output_type": "stream",
          "name": "stdout",
          "text": [
            "Tipo de datos\n",
            "index_miiad                        object\n",
            "borough                           float64\n",
            "neighborhood                       object\n",
            "building_class_category            object\n",
            "tax_class_at_present               object\n",
            "block                             float64\n",
            "lot                               float64\n",
            "ease-ment                          object\n",
            "building_class_at_present          object\n",
            "address                            object\n",
            "apartment_number                   object\n",
            "zip_code                          float64\n",
            "residential_units                 float64\n",
            "commercial_units                  float64\n",
            "total_units                       float64\n",
            "land_square_feet                  float64\n",
            "gross_square_feet                 float64\n",
            "year_built                        float64\n",
            "tax_class_at_time_of_sale         float64\n",
            "building_class_at_time_of_sale     object\n",
            "sale_price                        float64\n",
            "sale_date                          object\n",
            "dtype: object\n",
            "\n",
            " Tipos de datos corregidos\n",
            "index_miiad                        object\n",
            "borough                           float64\n",
            "neighborhood                       object\n",
            "building_class_category            object\n",
            "tax_class_at_present               object\n",
            "block                             float64\n",
            "lot                               float64\n",
            "ease-ment                          object\n",
            "building_class_at_present          object\n",
            "address                            object\n",
            "apartment_number                   object\n",
            "zip_code                          float64\n",
            "residential_units                 float64\n",
            "commercial_units                  float64\n",
            "total_units                       float64\n",
            "land_square_feet                  float64\n",
            "gross_square_feet                 float64\n",
            "year_built                        float64\n",
            "tax_class_at_time_of_sale         float64\n",
            "building_class_at_time_of_sale     object\n",
            "sale_price                        float64\n",
            "sale_date                          object\n",
            "dtype: object\n"
          ]
        }
      ]
    },
    {
      "cell_type": "markdown",
      "source": [
        "Práctica 17: Genera el diccionario de datos del dataframe preprocesado. Imprime el contenido de dicho diccionario\n",
        "\n"
      ],
      "metadata": {
        "id": "K2uRXCydPNKc"
      }
    },
    {
      "cell_type": "code",
      "source": [
        "diccionario_datos = pd.DataFrame({\"Nombre de la columna\": df.columns, \"Tipo de dato\": [str(df[col].dtype) for col in df.columns]})\n",
        "print(diccionario_datos)\n",
        "\n",
        "diccionario_datos.to_csv('/content/drive/MyDrive/ClassFiles/diccionario_datos.csv', index=False,encoding='utf-8')"
      ],
      "metadata": {
        "colab": {
          "base_uri": "https://localhost:8080/"
        },
        "id": "nF3Kbx8uKrQO",
        "outputId": "f655cf01-1f53-4736-9a5d-d4f72c1b1272"
      },
      "execution_count": 40,
      "outputs": [
        {
          "output_type": "stream",
          "name": "stdout",
          "text": [
            "              Nombre de la columna Tipo de dato\n",
            "0                      index_miiad       object\n",
            "1                          borough      float64\n",
            "2                     neighborhood       object\n",
            "3          building_class_category       object\n",
            "4             tax_class_at_present       object\n",
            "5                            block      float64\n",
            "6                              lot      float64\n",
            "7                        ease-ment       object\n",
            "8        building_class_at_present       object\n",
            "9                          address       object\n",
            "10                apartment_number       object\n",
            "11                        zip_code      float64\n",
            "12               residential_units      float64\n",
            "13                commercial_units      float64\n",
            "14                     total_units      float64\n",
            "15                land_square_feet      float64\n",
            "16               gross_square_feet      float64\n",
            "17                      year_built      float64\n",
            "18       tax_class_at_time_of_sale      float64\n",
            "19  building_class_at_time_of_sale       object\n",
            "20                      sale_price      float64\n",
            "21                       sale_date       object\n"
          ]
        }
      ]
    },
    {
      "cell_type": "markdown",
      "source": [],
      "metadata": {
        "id": "4EgZuPV4Ocda"
      }
    }
  ]
}