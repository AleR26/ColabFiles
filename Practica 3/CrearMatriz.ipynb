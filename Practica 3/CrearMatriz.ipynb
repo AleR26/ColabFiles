{
  "nbformat": 4,
  "nbformat_minor": 0,
  "metadata": {
    "colab": {
      "provenance": [],
      "authorship_tag": "ABX9TyNk3+ZUvoI87gV5Ww9Irg0+",
      "include_colab_link": true
    },
    "kernelspec": {
      "name": "python3",
      "display_name": "Python 3"
    },
    "language_info": {
      "name": "python"
    }
  },
  "cells": [
    {
      "cell_type": "markdown",
      "metadata": {
        "id": "view-in-github",
        "colab_type": "text"
      },
      "source": [
        "<a href=\"https://colab.research.google.com/github/AleR26/ColabFiles/blob/main/Practica%203/CrearMatriz.ipynb\" target=\"_parent\"><img src=\"https://colab.research.google.com/assets/colab-badge.svg\" alt=\"Open In Colab\"/></a>"
      ]
    },
    {
      "cell_type": "markdown",
      "source": [
        "#Creación de un arreglo y operaciones básicas"
      ],
      "metadata": {
        "id": "3iNvnApEhbbe"
      }
    },
    {
      "cell_type": "code",
      "execution_count": 2,
      "metadata": {
        "id": "SPhLt0v-fOn5",
        "colab": {
          "base_uri": "https://localhost:8080/"
        },
        "outputId": "1e426bfd-6d32-4d08-87a0-6a989419bee2"
      },
      "outputs": [
        {
          "output_type": "stream",
          "name": "stdout",
          "text": [
            "Array: [  5  79  65  45 100  54  10  55  71  80  70  70  46  83  85  43  13  14\n",
            "  36  39]\n",
            "Valor máximo: 100\n",
            "Valor minimo: 5\n",
            "Promedio: 53.15\n",
            "Sumar 10 a cada elemento: [ 15  89  75  55 110  64  20  65  81  90  80  80  56  93  95  53  23  24\n",
            "  46  49]\n"
          ]
        }
      ],
      "source": [
        "import numpy as np\n",
        "\n",
        "arr = np.random.randint(1,101,20) #inicio,fin,cantidad de datos [1,101)\n",
        "print(\"Array: \" + str(arr))\n",
        "print(\"Valor máximo: \" + str(np.max(arr)))\n",
        "print(\"Valor minimo: \" + str(np.min(arr)))\n",
        "print(\"Promedio: \" + str(np.mean(arr)))\n",
        "print(\"Sumar 10 a cada elemento: \" + str(arr+10))"
      ]
    },
    {
      "cell_type": "code",
      "source": [],
      "metadata": {
        "id": "1LfIeLWEFFYz"
      },
      "execution_count": 2,
      "outputs": []
    },
    {
      "cell_type": "markdown",
      "source": [
        "Manipilacion de matrices"
      ],
      "metadata": {
        "id": "HwWhCiX6FJwb"
      }
    },
    {
      "cell_type": "code",
      "source": [
        "arrA = np.random.randint(1, 10, (3, 3))\n",
        "arrB = np.random.randint(1, 10, (3, 3))\n",
        "\n",
        "print(\"Matriz A:\")\n",
        "print(arrA)\n",
        "print(\"Matriz B:\")\n",
        "print(arrB)\n",
        "print(\"Suma de matrices:\", arrA + arrB)\n",
        "print(\"Resta de matrices:\", arrA - arrB)\n",
        "print(\"Multiplicar la primer matriz por 2\", arrA*2)\n",
        "print(\"Multiplicación matricial:\", np.dot(arrA, arrB))"
      ],
      "metadata": {
        "id": "rdq9csNIhGVf",
        "outputId": "bad37e03-e35e-445a-ace3-c2f74c223980",
        "colab": {
          "base_uri": "https://localhost:8080/"
        }
      },
      "execution_count": 6,
      "outputs": [
        {
          "output_type": "stream",
          "name": "stdout",
          "text": [
            "Matriz A:\n",
            "[[9 4 9]\n",
            " [5 2 6]\n",
            " [4 7 3]]\n",
            "Matriz B:\n",
            "[[5 3 4]\n",
            " [2 6 1]\n",
            " [8 8 3]]\n",
            "Suma de matrices: [[14  7 13]\n",
            " [ 7  8  7]\n",
            " [12 15  6]]\n",
            "Resta de matrices: [[ 4  1  5]\n",
            " [ 3 -4  5]\n",
            " [-4 -1  0]]\n",
            "Multiplicar la primer matriz por 2 [[18  8 18]\n",
            " [10  4 12]\n",
            " [ 8 14  6]]\n",
            "Multiplicación matricial: [[125 123  67]\n",
            " [ 77  75  40]\n",
            " [ 58  78  32]]\n"
          ]
        }
      ]
    },
    {
      "cell_type": "code",
      "source": [],
      "metadata": {
        "id": "m0EUw0x7ER6-"
      },
      "execution_count": null,
      "outputs": []
    }
  ]
}